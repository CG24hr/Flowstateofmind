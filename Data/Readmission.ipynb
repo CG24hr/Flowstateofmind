{
 "cells": [
  {
   "attachments": {},
   "cell_type": "markdown",
   "metadata": {},
   "source": [
    "# Hospital readmissions \n",
    "\n"
   ]
  },
  {
   "attachments": {},
   "cell_type": "markdown",
   "metadata": {},
   "source": [
    "* Exploratory Data Analysis\n",
    "* Data Cleaning\n",
    "* Data Visualization\n",
    "* Statistical Analysis & Hypothesis Testing\n",
    "* Machine Learning"
   ]
  },
  {
   "cell_type": "code",
   "execution_count": 1,
   "metadata": {},
   "outputs": [],
   "source": [
    "import numpy as np\n",
    "import pandas as pd\n",
    "import datetime as dt\n",
    "import missingno as msno\n",
    "import matplotlib.pyplot as plt\n",
    "import seaborn as sns\n",
    "import scipy.stats as stats\n",
    "import statsmodels.api as sm\n",
    "from sklearn.model_selection import train_test_split\n",
    "from sklearn.linear_model import LinearRegression, LogisticRegression\n",
    "from sklearn.tree import DecisionTreeClassifier\n",
    "from sklearn.metrics import r2_score, mean_absolute_error, mean_squared_error, accuracy_score, confusion_matrix"
   ]
  },
  {
   "cell_type": "code",
   "execution_count": 2,
   "metadata": {},
   "outputs": [
    {
     "data": {
      "text/html": [
       "<div>\n",
       "<style scoped>\n",
       "    .dataframe tbody tr th:only-of-type {\n",
       "        vertical-align: middle;\n",
       "    }\n",
       "\n",
       "    .dataframe tbody tr th {\n",
       "        vertical-align: top;\n",
       "    }\n",
       "\n",
       "    .dataframe thead th {\n",
       "        text-align: right;\n",
       "    }\n",
       "</style>\n",
       "<table border=\"1\" class=\"dataframe\">\n",
       "  <thead>\n",
       "    <tr style=\"text-align: right;\">\n",
       "      <th></th>\n",
       "      <th>age</th>\n",
       "      <th>time_in_hospital</th>\n",
       "      <th>n_lab_procedures</th>\n",
       "      <th>n_procedures</th>\n",
       "      <th>n_medications</th>\n",
       "      <th>n_outpatient</th>\n",
       "      <th>n_inpatient</th>\n",
       "      <th>n_emergency</th>\n",
       "      <th>medical_specialty</th>\n",
       "      <th>diag_1</th>\n",
       "      <th>diag_2</th>\n",
       "      <th>diag_3</th>\n",
       "      <th>glucose_test</th>\n",
       "      <th>A1Ctest</th>\n",
       "      <th>change</th>\n",
       "      <th>diabetes_med</th>\n",
       "      <th>readmitted</th>\n",
       "    </tr>\n",
       "  </thead>\n",
       "  <tbody>\n",
       "    <tr>\n",
       "      <th>0</th>\n",
       "      <td>[70-80)</td>\n",
       "      <td>8</td>\n",
       "      <td>72</td>\n",
       "      <td>1</td>\n",
       "      <td>18</td>\n",
       "      <td>2</td>\n",
       "      <td>0</td>\n",
       "      <td>0</td>\n",
       "      <td>Missing</td>\n",
       "      <td>Circulatory</td>\n",
       "      <td>Respiratory</td>\n",
       "      <td>Other</td>\n",
       "      <td>no</td>\n",
       "      <td>no</td>\n",
       "      <td>no</td>\n",
       "      <td>yes</td>\n",
       "      <td>no</td>\n",
       "    </tr>\n",
       "    <tr>\n",
       "      <th>1</th>\n",
       "      <td>[70-80)</td>\n",
       "      <td>3</td>\n",
       "      <td>34</td>\n",
       "      <td>2</td>\n",
       "      <td>13</td>\n",
       "      <td>0</td>\n",
       "      <td>0</td>\n",
       "      <td>0</td>\n",
       "      <td>Other</td>\n",
       "      <td>Other</td>\n",
       "      <td>Other</td>\n",
       "      <td>Other</td>\n",
       "      <td>no</td>\n",
       "      <td>no</td>\n",
       "      <td>no</td>\n",
       "      <td>yes</td>\n",
       "      <td>no</td>\n",
       "    </tr>\n",
       "    <tr>\n",
       "      <th>2</th>\n",
       "      <td>[50-60)</td>\n",
       "      <td>5</td>\n",
       "      <td>45</td>\n",
       "      <td>0</td>\n",
       "      <td>18</td>\n",
       "      <td>0</td>\n",
       "      <td>0</td>\n",
       "      <td>0</td>\n",
       "      <td>Missing</td>\n",
       "      <td>Circulatory</td>\n",
       "      <td>Circulatory</td>\n",
       "      <td>Circulatory</td>\n",
       "      <td>no</td>\n",
       "      <td>no</td>\n",
       "      <td>yes</td>\n",
       "      <td>yes</td>\n",
       "      <td>yes</td>\n",
       "    </tr>\n",
       "    <tr>\n",
       "      <th>3</th>\n",
       "      <td>[70-80)</td>\n",
       "      <td>2</td>\n",
       "      <td>36</td>\n",
       "      <td>0</td>\n",
       "      <td>12</td>\n",
       "      <td>1</td>\n",
       "      <td>0</td>\n",
       "      <td>0</td>\n",
       "      <td>Missing</td>\n",
       "      <td>Circulatory</td>\n",
       "      <td>Other</td>\n",
       "      <td>Diabetes</td>\n",
       "      <td>no</td>\n",
       "      <td>no</td>\n",
       "      <td>yes</td>\n",
       "      <td>yes</td>\n",
       "      <td>yes</td>\n",
       "    </tr>\n",
       "    <tr>\n",
       "      <th>4</th>\n",
       "      <td>[60-70)</td>\n",
       "      <td>1</td>\n",
       "      <td>42</td>\n",
       "      <td>0</td>\n",
       "      <td>7</td>\n",
       "      <td>0</td>\n",
       "      <td>0</td>\n",
       "      <td>0</td>\n",
       "      <td>InternalMedicine</td>\n",
       "      <td>Other</td>\n",
       "      <td>Circulatory</td>\n",
       "      <td>Respiratory</td>\n",
       "      <td>no</td>\n",
       "      <td>no</td>\n",
       "      <td>no</td>\n",
       "      <td>yes</td>\n",
       "      <td>no</td>\n",
       "    </tr>\n",
       "    <tr>\n",
       "      <th>...</th>\n",
       "      <td>...</td>\n",
       "      <td>...</td>\n",
       "      <td>...</td>\n",
       "      <td>...</td>\n",
       "      <td>...</td>\n",
       "      <td>...</td>\n",
       "      <td>...</td>\n",
       "      <td>...</td>\n",
       "      <td>...</td>\n",
       "      <td>...</td>\n",
       "      <td>...</td>\n",
       "      <td>...</td>\n",
       "      <td>...</td>\n",
       "      <td>...</td>\n",
       "      <td>...</td>\n",
       "      <td>...</td>\n",
       "      <td>...</td>\n",
       "    </tr>\n",
       "    <tr>\n",
       "      <th>24995</th>\n",
       "      <td>[80-90)</td>\n",
       "      <td>14</td>\n",
       "      <td>77</td>\n",
       "      <td>1</td>\n",
       "      <td>30</td>\n",
       "      <td>0</td>\n",
       "      <td>0</td>\n",
       "      <td>0</td>\n",
       "      <td>Missing</td>\n",
       "      <td>Circulatory</td>\n",
       "      <td>Other</td>\n",
       "      <td>Circulatory</td>\n",
       "      <td>no</td>\n",
       "      <td>normal</td>\n",
       "      <td>no</td>\n",
       "      <td>no</td>\n",
       "      <td>yes</td>\n",
       "    </tr>\n",
       "    <tr>\n",
       "      <th>24996</th>\n",
       "      <td>[80-90)</td>\n",
       "      <td>2</td>\n",
       "      <td>66</td>\n",
       "      <td>0</td>\n",
       "      <td>24</td>\n",
       "      <td>0</td>\n",
       "      <td>0</td>\n",
       "      <td>0</td>\n",
       "      <td>Missing</td>\n",
       "      <td>Digestive</td>\n",
       "      <td>Injury</td>\n",
       "      <td>Other</td>\n",
       "      <td>no</td>\n",
       "      <td>high</td>\n",
       "      <td>yes</td>\n",
       "      <td>yes</td>\n",
       "      <td>yes</td>\n",
       "    </tr>\n",
       "    <tr>\n",
       "      <th>24997</th>\n",
       "      <td>[70-80)</td>\n",
       "      <td>5</td>\n",
       "      <td>12</td>\n",
       "      <td>0</td>\n",
       "      <td>6</td>\n",
       "      <td>0</td>\n",
       "      <td>1</td>\n",
       "      <td>0</td>\n",
       "      <td>Missing</td>\n",
       "      <td>Other</td>\n",
       "      <td>Other</td>\n",
       "      <td>Other</td>\n",
       "      <td>normal</td>\n",
       "      <td>no</td>\n",
       "      <td>no</td>\n",
       "      <td>no</td>\n",
       "      <td>yes</td>\n",
       "    </tr>\n",
       "    <tr>\n",
       "      <th>24998</th>\n",
       "      <td>[70-80)</td>\n",
       "      <td>2</td>\n",
       "      <td>61</td>\n",
       "      <td>3</td>\n",
       "      <td>15</td>\n",
       "      <td>0</td>\n",
       "      <td>0</td>\n",
       "      <td>0</td>\n",
       "      <td>Family/GeneralPractice</td>\n",
       "      <td>Respiratory</td>\n",
       "      <td>Diabetes</td>\n",
       "      <td>Other</td>\n",
       "      <td>no</td>\n",
       "      <td>no</td>\n",
       "      <td>yes</td>\n",
       "      <td>yes</td>\n",
       "      <td>no</td>\n",
       "    </tr>\n",
       "    <tr>\n",
       "      <th>24999</th>\n",
       "      <td>[50-60)</td>\n",
       "      <td>10</td>\n",
       "      <td>37</td>\n",
       "      <td>1</td>\n",
       "      <td>24</td>\n",
       "      <td>0</td>\n",
       "      <td>0</td>\n",
       "      <td>0</td>\n",
       "      <td>Missing</td>\n",
       "      <td>Other</td>\n",
       "      <td>Diabetes</td>\n",
       "      <td>Circulatory</td>\n",
       "      <td>no</td>\n",
       "      <td>no</td>\n",
       "      <td>no</td>\n",
       "      <td>no</td>\n",
       "      <td>yes</td>\n",
       "    </tr>\n",
       "  </tbody>\n",
       "</table>\n",
       "<p>25000 rows × 17 columns</p>\n",
       "</div>"
      ],
      "text/plain": [
       "           age  time_in_hospital  n_lab_procedures  n_procedures  \\\n",
       "0      [70-80)                 8                72             1   \n",
       "1      [70-80)                 3                34             2   \n",
       "2      [50-60)                 5                45             0   \n",
       "3      [70-80)                 2                36             0   \n",
       "4      [60-70)                 1                42             0   \n",
       "...        ...               ...               ...           ...   \n",
       "24995  [80-90)                14                77             1   \n",
       "24996  [80-90)                 2                66             0   \n",
       "24997  [70-80)                 5                12             0   \n",
       "24998  [70-80)                 2                61             3   \n",
       "24999  [50-60)                10                37             1   \n",
       "\n",
       "       n_medications  n_outpatient  n_inpatient  n_emergency  \\\n",
       "0                 18             2            0            0   \n",
       "1                 13             0            0            0   \n",
       "2                 18             0            0            0   \n",
       "3                 12             1            0            0   \n",
       "4                  7             0            0            0   \n",
       "...              ...           ...          ...          ...   \n",
       "24995             30             0            0            0   \n",
       "24996             24             0            0            0   \n",
       "24997              6             0            1            0   \n",
       "24998             15             0            0            0   \n",
       "24999             24             0            0            0   \n",
       "\n",
       "            medical_specialty       diag_1       diag_2       diag_3  \\\n",
       "0                     Missing  Circulatory  Respiratory        Other   \n",
       "1                       Other        Other        Other        Other   \n",
       "2                     Missing  Circulatory  Circulatory  Circulatory   \n",
       "3                     Missing  Circulatory        Other     Diabetes   \n",
       "4            InternalMedicine        Other  Circulatory  Respiratory   \n",
       "...                       ...          ...          ...          ...   \n",
       "24995                 Missing  Circulatory        Other  Circulatory   \n",
       "24996                 Missing    Digestive       Injury        Other   \n",
       "24997                 Missing        Other        Other        Other   \n",
       "24998  Family/GeneralPractice  Respiratory     Diabetes        Other   \n",
       "24999                 Missing        Other     Diabetes  Circulatory   \n",
       "\n",
       "      glucose_test A1Ctest change diabetes_med readmitted  \n",
       "0               no      no     no          yes         no  \n",
       "1               no      no     no          yes         no  \n",
       "2               no      no    yes          yes        yes  \n",
       "3               no      no    yes          yes        yes  \n",
       "4               no      no     no          yes         no  \n",
       "...            ...     ...    ...          ...        ...  \n",
       "24995           no  normal     no           no        yes  \n",
       "24996           no    high    yes          yes        yes  \n",
       "24997       normal      no     no           no        yes  \n",
       "24998           no      no    yes          yes         no  \n",
       "24999           no      no     no           no        yes  \n",
       "\n",
       "[25000 rows x 17 columns]"
      ]
     },
     "execution_count": 2,
     "metadata": {},
     "output_type": "execute_result"
    }
   ],
   "source": [
    "dm = pd.read_csv('D:\\\\Users\\\\Desktop\\\\Python code\\\\GitHub\\\\Flowstateofmind\\\\Data\\\\csv\\\\hospital_readmissions.csv')\n",
    "dm"
   ]
  },
  {
   "cell_type": "code",
   "execution_count": 3,
   "metadata": {},
   "outputs": [
    {
     "name": "stdout",
     "output_type": "stream",
     "text": [
      "<class 'pandas.core.frame.DataFrame'>\n",
      "RangeIndex: 25000 entries, 0 to 24999\n",
      "Data columns (total 17 columns):\n",
      " #   Column             Non-Null Count  Dtype \n",
      "---  ------             --------------  ----- \n",
      " 0   age                25000 non-null  object\n",
      " 1   time_in_hospital   25000 non-null  int64 \n",
      " 2   n_lab_procedures   25000 non-null  int64 \n",
      " 3   n_procedures       25000 non-null  int64 \n",
      " 4   n_medications      25000 non-null  int64 \n",
      " 5   n_outpatient       25000 non-null  int64 \n",
      " 6   n_inpatient        25000 non-null  int64 \n",
      " 7   n_emergency        25000 non-null  int64 \n",
      " 8   medical_specialty  25000 non-null  object\n",
      " 9   diag_1             25000 non-null  object\n",
      " 10  diag_2             25000 non-null  object\n",
      " 11  diag_3             25000 non-null  object\n",
      " 12  glucose_test       25000 non-null  object\n",
      " 13  A1Ctest            25000 non-null  object\n",
      " 14  change             25000 non-null  object\n",
      " 15  diabetes_med       25000 non-null  object\n",
      " 16  readmitted         25000 non-null  object\n",
      "dtypes: int64(7), object(10)\n",
      "memory usage: 3.2+ MB\n"
     ]
    },
    {
     "data": {
      "text/plain": [
       "age                  0\n",
       "time_in_hospital     0\n",
       "n_lab_procedures     0\n",
       "n_procedures         0\n",
       "n_medications        0\n",
       "n_outpatient         0\n",
       "n_inpatient          0\n",
       "n_emergency          0\n",
       "medical_specialty    0\n",
       "diag_1               0\n",
       "diag_2               0\n",
       "diag_3               0\n",
       "glucose_test         0\n",
       "A1Ctest              0\n",
       "change               0\n",
       "diabetes_med         0\n",
       "readmitted           0\n",
       "dtype: int64"
      ]
     },
     "execution_count": 3,
     "metadata": {},
     "output_type": "execute_result"
    }
   ],
   "source": [
    "dm.info()\n",
    "dm.isna().sum()"
   ]
  },
  {
   "cell_type": "code",
   "execution_count": 4,
   "metadata": {},
   "outputs": [
    {
     "name": "stdout",
     "output_type": "stream",
     "text": [
      "This dataset consists of 25,000 records of admissions for patients with diabetes mellitus (DM) and does not contain any null values.\n"
     ]
    }
   ],
   "source": [
    "print('This dataset consists of 25,000 records of admissions for patients with diabetes mellitus (DM) and does not contain any null values.')"
   ]
  },
  {
   "attachments": {},
   "cell_type": "markdown",
   "metadata": {},
   "source": [
    "## The number of hospital admissions categoryized by patient age."
   ]
  },
  {
   "cell_type": "code",
   "execution_count": 5,
   "metadata": {},
   "outputs": [
    {
     "data": {
      "image/png": "[encoded data removed]",
      "text/plain": [
       "<Figure size 640x480 with 1 Axes>"
      ]
     },
     "metadata": {},
     "output_type": "display_data"
    },
    {
     "data": {
      "text/html": [
       "<div>\n",
       "<style scoped>\n",
       "    .dataframe tbody tr th:only-of-type {\n",
       "        vertical-align: middle;\n",
       "    }\n",
       "\n",
       "    .dataframe tbody tr th {\n",
       "        vertical-align: top;\n",
       "    }\n",
       "\n",
       "    .dataframe thead th {\n",
       "        text-align: right;\n",
       "    }\n",
       "</style>\n",
       "<table border=\"1\" class=\"dataframe\">\n",
       "  <thead>\n",
       "    <tr style=\"text-align: right;\">\n",
       "      <th></th>\n",
       "      <th>age</th>\n",
       "      <th>count</th>\n",
       "    </tr>\n",
       "  </thead>\n",
       "  <tbody>\n",
       "    <tr>\n",
       "      <th>4</th>\n",
       "      <td>[40-50)</td>\n",
       "      <td>2532</td>\n",
       "    </tr>\n",
       "    <tr>\n",
       "      <th>3</th>\n",
       "      <td>[50-60)</td>\n",
       "      <td>4452</td>\n",
       "    </tr>\n",
       "    <tr>\n",
       "      <th>1</th>\n",
       "      <td>[60-70)</td>\n",
       "      <td>5913</td>\n",
       "    </tr>\n",
       "    <tr>\n",
       "      <th>0</th>\n",
       "      <td>[70-80)</td>\n",
       "      <td>6837</td>\n",
       "    </tr>\n",
       "    <tr>\n",
       "      <th>2</th>\n",
       "      <td>[80-90)</td>\n",
       "      <td>4516</td>\n",
       "    </tr>\n",
       "    <tr>\n",
       "      <th>5</th>\n",
       "      <td>[90-100)</td>\n",
       "      <td>750</td>\n",
       "    </tr>\n",
       "  </tbody>\n",
       "</table>\n",
       "</div>"
      ],
      "text/plain": [
       "        age  count\n",
       "4   [40-50)   2532\n",
       "3   [50-60)   4452\n",
       "1   [60-70)   5913\n",
       "0   [70-80)   6837\n",
       "2   [80-90)   4516\n",
       "5  [90-100)    750"
      ]
     },
     "execution_count": 5,
     "metadata": {},
     "output_type": "execute_result"
    }
   ],
   "source": [
    "sns.set_style('darkgrid')\n",
    "sns.countplot(data = dm, x = 'age', palette = sns.color_palette('Blues', 6)[::-1])\n",
    "plt.title('Number of admissions categorized by patient age.')\n",
    "plt.show()\n",
    "\n",
    "dm['age'] = dm['age'].astype('category')\n",
    "dm['age'] = dm['age'].cat.reorder_categories(new_categories = ['[40-50)', '[50-60)', '[60-70)', '[70-80)', '[80-90)', '[90-100)'], ordered = True)\n",
    "age = dm['age'].value_counts().reset_index().rename(columns = {'index':'age', 'age':'count'}).sort_values('age', ascending = True)\n",
    "age"
   ]
  },
  {
   "attachments": {},
   "cell_type": "markdown",
   "metadata": {},
   "source": [
    "## The relationship between age and readmission among DM patients."
   ]
  },
  {
   "cell_type": "code",
   "execution_count": 6,
   "metadata": {},
   "outputs": [
    {
     "name": "stdout",
     "output_type": "stream",
     "text": [
      "readmitted map\n"
     ]
    },
    {
     "data": {
      "text/plain": [
       "{'no': 0, 'yes': 1}"
      ]
     },
     "execution_count": 6,
     "metadata": {},
     "output_type": "execute_result"
    }
   ],
   "source": [
    "dm['readmitted'] = dm['readmitted'].astype('category')\n",
    "readmitted_code = dm['readmitted'].cat.codes\n",
    "readmitted_map = dict(zip(dm['readmitted'], readmitted_code))\n",
    "dm['readmitted'] = dm['readmitted'].replace(readmitted_map)\n",
    "print('readmitted map')\n",
    "readmitted_map"
   ]
  },
  {
   "cell_type": "code",
   "execution_count": 7,
   "metadata": {},
   "outputs": [
    {
     "name": "stdout",
     "output_type": "stream",
     "text": [
      "H0 : There is no relationships between readmission and age groups.\n",
      "\n",
      "readmitted         0         1\n",
      "age                           \n",
      "[40-50)     0.554897  0.445103\n",
      "[50-60)     0.558401  0.441599\n",
      "[60-70)     0.531541  0.468459\n",
      "[70-80)     0.512067  0.487933\n",
      "[80-90)     0.504207  0.495793\n",
      "[90-100)    0.578667  0.421333\n",
      "\n"
     ]
    },
    {
     "data": {
      "image/png": "[encoded data removed]",
      "text/plain": [
       "<Figure size 640x480 with 1 Axes>"
      ]
     },
     "metadata": {},
     "output_type": "display_data"
    },
    {
     "name": "stdout",
     "output_type": "stream",
     "text": [
      "There is a statistically significant association between the age groups and the readmission status.\n",
      "Chi-square statistic :  48.787297263120706\n",
      "Degree of freedom :  5\n",
      "P-value :  2.4528660957495622e-09\n",
      "This means that the readmission status is dependent on the age groups, and the relationship observed in the data is unlikely to have occurred by chance.\n",
      "Therefore, The null hypothesis can be rejected.\n"
     ]
    }
   ],
   "source": [
    "print('H0 : There is no relationships between readmission and age groups.') \n",
    "print()\n",
    "readmit_age = dm.groupby('age')['readmitted'].value_counts(normalize = True).unstack()\n",
    "print(readmit_age)\n",
    "print()\n",
    "\n",
    "readmit_age.plot(kind = 'bar', stacked = True, color = sns.color_palette('Blues', 2))\n",
    "plt.title('Relationships between readmission and age groups.')\n",
    "plt.show()\n",
    "\n",
    "readmit_age = dm.groupby('age')['readmitted'].value_counts(normalize = False).unstack()\n",
    "chi_stat, pvalue, df, expected = stats.chi2_contingency(readmit_age)\n",
    "print('There is a statistically significant association between the age groups and the readmission status.')\n",
    "print('Chi-square statistic : ', chi_stat)\n",
    "print('Degree of freedom : ', df)\n",
    "print('P-value : ', pvalue)\n",
    "print('This means that the readmission status is dependent on the age groups, and the relationship observed in the data is unlikely to have occurred by chance.')\n",
    "print('Therefore, The null hypothesis can be rejected.')"
   ]
  },
  {
   "attachments": {},
   "cell_type": "markdown",
   "metadata": {},
   "source": [
    "# The most common primary diagnosis."
   ]
  },
  {
   "cell_type": "code",
   "execution_count": 8,
   "metadata": {},
   "outputs": [
    {
     "data": {
      "image/png": "[encoded data removed]",
      "text/plain": [
       "<Figure size 640x480 with 1 Axes>"
      ]
     },
     "metadata": {},
     "output_type": "display_data"
    },
    {
     "data": {
      "text/plain": [
       "Circulatory        7824\n",
       "Other              6502\n",
       "Respiratory        3680\n",
       "Digestive          2329\n",
       "Diabetes           1747\n",
       "Injury             1666\n",
       "Musculoskeletal    1252\n",
       "Name: diag_1, dtype: int64"
      ]
     },
     "execution_count": 8,
     "metadata": {},
     "output_type": "execute_result"
    }
   ],
   "source": [
    "dm.loc[dm['diag_1'] == 'Missing', 'diag_1'] = 'Other'\n",
    "primary_diag = dm['diag_1'].value_counts()\n",
    "\n",
    "sns.countplot(data = dm, y = 'diag_1', palette = sns.color_palette('Reds', 7)[::-1])\n",
    "plt.title('Primary diagnosis of DM patient admissions.')\n",
    "plt.ylabel('Primary diagnosis')\n",
    "plt.show()\n",
    "\n",
    "primary_diag"
   ]
  },
  {
   "attachments": {},
   "cell_type": "markdown",
   "metadata": {},
   "source": [
    "## The relationship between HbA1C level and readmission."
   ]
  },
  {
   "cell_type": "code",
   "execution_count": 9,
   "metadata": {},
   "outputs": [
    {
     "name": "stdout",
     "output_type": "stream",
     "text": [
      "This study included only DM patients who were admitted and had their HbA1C levels checked.\n",
      "Null hypothesis : There is no relationship between HbA1C level during admission and readmission among DM inpatients in this hospital.\n"
     ]
    },
    {
     "data": {
      "image/png": "[encoded data removed]",
      "text/plain": [
       "<Figure size 640x480 with 2 Axes>"
      ]
     },
     "metadata": {},
     "output_type": "display_data"
    },
    {
     "name": "stdout",
     "output_type": "stream",
     "text": [
      "Chi-square statistic : 4.9832040193002705\n",
      "Degree of freedom : 1\n",
      "P-value : 0.0255945393560662\n",
      "\n",
      "Based on the p-value, which is less than the conventional significance level of 0.05, we reject the null hypothesis.\n",
      "This indicates that there is a statistically significant relationship between HbA1C level during admission and readmission among DM inpatients in the hospital.\n",
      "\n",
      "In summary, the data suggests that the HbA1C level during admission is associated with the likelihood of readmission among DM inpatients. \n",
      "It may be worth investigating whether higher HbA1C levels indicate poorer glycemic control and therefore contribute to an increased risk of readmission.\n",
      "Additionally, examining other factors such as medication adherence, comorbidities, or length of hospital stay could provide additional insights into readmission patterns among DM inpatients.\n"
     ]
    }
   ],
   "source": [
    "print('This study included only DM patients who were admitted and had their HbA1C levels checked.')\n",
    "print('Null hypothesis : There is no relationship between HbA1C level during admission and readmission among DM inpatients in this hospital.')\n",
    "dm['A1Ctest'] = dm['A1Ctest'].astype('category')\n",
    "dm['A1Ctest'] = dm['A1Ctest'].cat.reorder_categories(new_categories=['no', 'normal', 'high'], ordered = True)\n",
    "\n",
    "\n",
    "a1c_readmit = pd.crosstab(dm['A1Ctest'][~(dm['A1Ctest'] == 'no')], dm['readmitted'])\n",
    "sns.heatmap(a1c_readmit, annot = True, cmap = 'YlGnBu')\n",
    "plt.xlabel('Readmission')\n",
    "plt.ylabel('HbA1Ctest')\n",
    "plt.title('Relationship between HbA1C level and readmission.')\n",
    "plt.show()\n",
    "\n",
    "chi_stat, pvalue, df, expected = stats.chi2_contingency(a1c_readmit)\n",
    "print('Chi-square statistic :', chi_stat)\n",
    "print('Degree of freedom :', df)\n",
    "print('P-value :', pvalue)\n",
    "print()\n",
    "print('Based on the p-value, which is less than the conventional significance level of 0.05, we reject the null hypothesis.')\n",
    "print('This indicates that there is a statistically significant relationship between HbA1C level during admission and readmission among DM inpatients in the hospital.')\n",
    "print()\n",
    "print('In summary, the data suggests that the HbA1C level during admission is associated with the likelihood of readmission among DM inpatients. ')\n",
    "print('It may be worth investigating whether higher HbA1C levels indicate poorer glycemic control and therefore contribute to an increased risk of readmission.')\n",
    "print('Additionally, examining other factors such as medication adherence, comorbidities, or length of hospital stay could provide additional insights into readmission patterns among DM inpatients.')"
   ]
  },
  {
   "attachments": {},
   "cell_type": "markdown",
   "metadata": {},
   "source": [
    "## Time in hospital comparison between elderly (age >= 60)and non-elderly."
   ]
  },
  {
   "cell_type": "code",
   "execution_count": 10,
   "metadata": {},
   "outputs": [
    {
     "name": "stdout",
     "output_type": "stream",
     "text": [
      "Null hypothesis : There is no significant difference of daytime in hospital between elderly and non-elderly.\n"
     ]
    },
    {
     "data": {
      "image/png": "[encoded data removed]",
      "text/plain": [
       "<Figure size 300x400 with 1 Axes>"
      ]
     },
     "metadata": {},
     "output_type": "display_data"
    },
    {
     "name": "stdout",
     "output_type": "stream",
     "text": [
      "           count      mean       std  min  25%  50%  75%   max\n",
      "elderly                                                       \n",
      "False     6984.0  4.102663  2.906618  1.0  2.0  3.0  5.0  14.0\n",
      "True     18016.0  4.589254  3.026614  1.0  2.0  4.0  6.0  14.0\n",
      "\n",
      "Median difference time in hospital : 1.0 day., 95%CI [0.918763311970568, 1.081236688029432]\n",
      "P-value : 5.2032648501478255e-39\n",
      "This suggests strong evidence reject the null hypothesis, indicating that there is a significant difference in the daytime spent in the hospital between elderly and non-elderly patients.\n"
     ]
    }
   ],
   "source": [
    "print('Null hypothesis : There is no significant difference of daytime in hospital between elderly and non-elderly.')\n",
    "dm['elderly'] = dm['age'].replace({'[40-50)':False, '[50-60)':False, '[60-70)':True, '[70-80)':True, '[80-90)':True, '[90-100)':True})\n",
    "\n",
    "\n",
    "plt.figure(figsize = (3, 4))\n",
    "sns.boxplot(data = dm, x = 'elderly', y = 'time_in_hospital', palette = sns.color_palette('Blues', 2))\n",
    "plt.title('Time in hospital comparison between elderly and non-elderly.')\n",
    "plt.ylabel('Time in hospital(days).')\n",
    "plt.show()\n",
    "\n",
    "\n",
    "print(dm.groupby('elderly')['time_in_hospital'].describe())\n",
    "print()\n",
    "\n",
    "class hypothesis() : \n",
    "    def test(self, group1, group2, tailed = 'two-tailed', CI = 0.95) :\n",
    "        self.alpha = 1 - CI\n",
    "        self.z_alpha = stats.norm.ppf(1-(self.alpha/2))\n",
    "        self.diff = group1.median() - group2.median()\n",
    "        self.std_error = np.sqrt((np.var(group1)/len(group1)) + (np.var(group2)/len(group2)))\n",
    "        self.CI_low = self.diff - (self.z_alpha * self.std_error)\n",
    "        self.CI_high = self.diff + (self.z_alpha * self.std_error)\n",
    "        self.stat, self.pvalue = stats.mannwhitneyu(group1, group2)\n",
    "        return self.diff, [self.CI_low, self.CI_high], self.pvalue\n",
    "time_elderly = hypothesis()\n",
    "diff, CI, pvalue = time_elderly.test(dm[dm['elderly'] == True]['time_in_hospital'], dm[dm['elderly'] == False]['time_in_hospital'])\n",
    "print('Median difference time in hospital :', diff, 'day., 95%CI', CI)\n",
    "print('P-value :', pvalue)\n",
    "print('This suggests strong evidence reject the null hypothesis, indicating that there is a significant difference in the daytime spent in the hospital between elderly and non-elderly patients.')"
   ]
  },
  {
   "attachments": {},
   "cell_type": "markdown",
   "metadata": {},
   "source": [
    "## Correlation between time in hospital and number of lab procedures."
   ]
  },
  {
   "cell_type": "code",
   "execution_count": 17,
   "metadata": {},
   "outputs": [
    {
     "ename": "NameError",
     "evalue": "name 'ns' is not defined",
     "output_type": "error",
     "traceback": [
      "\u001b[1;31m---------------------------------------------------------------------------\u001b[0m",
      "\u001b[1;31mNameError\u001b[0m                                 Traceback (most recent call last)",
      "Cell \u001b[1;32mIn[17], line 2\u001b[0m\n\u001b[0;32m      1\u001b[0m plt\u001b[39m.\u001b[39mfigure(figsize \u001b[39m=\u001b[39m (\u001b[39m16\u001b[39m, \u001b[39m8\u001b[39m))\n\u001b[1;32m----> 2\u001b[0m ns\u001b[39m.\u001b[39mlmplot(data \u001b[39m=\u001b[39m dm, x \u001b[39m=\u001b[39m \u001b[39m'\u001b[39m\u001b[39mtime_in_hospital\u001b[39m\u001b[39m'\u001b[39m, y \u001b[39m=\u001b[39m \u001b[39m'\u001b[39m\u001b[39mn_lab_procedures\u001b[39m\u001b[39m'\u001b[39m, lowess \u001b[39m=\u001b[39m \u001b[39mTrue\u001b[39;00m, scatter_kws \u001b[39m=\u001b[39m {\u001b[39m'\u001b[39m\u001b[39malpha\u001b[39m\u001b[39m'\u001b[39m:\u001b[39m0.05\u001b[39m})\n\u001b[0;32m      3\u001b[0m plt\u001b[39m.\u001b[39mshow()\n",
      "\u001b[1;31mNameError\u001b[0m: name 'ns' is not defined"
     ]
    },
    {
     "data": {
      "text/plain": [
       "<Figure size 1600x800 with 0 Axes>"
      ]
     },
     "metadata": {},
     "output_type": "display_data"
    }
   ],
   "source": [
    "plt.figure(figsize = (16, 8))\n",
    "ns.lmplot(data = dm, x = 'time_in_hospital', y = 'n_lab_procedures', lowess = True, scatter_kws = {'alpha':0.05})\n",
    "plt.show()"
   ]
  }
 ],
 "metadata": {
  "kernelspec": {
   "display_name": "Python 3",
   "language": "python",
   "name": "python3"
  },
  "language_info": {
   "codemirror_mode": {
    "name": "ipython",
    "version": 3
   },
   "file_extension": ".py",
   "mimetype": "text/x-python",
   "name": "python",
   "nbconvert_exporter": "python",
   "pygments_lexer": "ipython3",
   "version": "3.10.11"
  },
  "orig_nbformat": 4
 },
 "nbformat": 4,
 "nbformat_minor": 2
}
