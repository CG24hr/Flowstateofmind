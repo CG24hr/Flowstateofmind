{
 "cells": [
  {
   "cell_type": "code",
   "execution_count": 70,
   "metadata": {},
   "outputs": [],
   "source": [
    "# BASIC TOOLS\n",
    "import numpy as np\n",
    "import pandas as pd\n",
    "import datetime as dt\n",
    "\n",
    "# STATISTIC TOOLS\n",
    "import matplotlib.pyplot as plt \n",
    "import seaborn as sns\n",
    "import scipy.stats as stats\n",
    "import pingouin as pg \n",
    "import statsmodels.formula.api as smf\n",
    "from lifelines import KaplanMeierFitter, NelsonAalenFitter, CoxPHFitter\n",
    "\n",
    "# PRE - PROCESSING TOOLS \n",
    "from sklearn.pipeline import make_pipeline, Pipeline\n",
    "from sklearn.impute import SimpleImputer\n",
    "from sklearn.preprocessing import StandardScaler, MinMaxScaler, PowerTransformer, LabelEncoder\n",
    "from sklearn.feature_extraction.text import CountVectorizer, TfidfVectorizer\n",
    "\n",
    "# SUPERVISED LEARNING TOOLS\n",
    "from sklearn.model_selection import train_test_split, KFold, cross_val_score, GridSearchCV\n",
    "from sklearn.linear_model import LinearRegression, LogisticRegression, Lasso, Ridge\n",
    "from sklearn.neighbors import KNeighborsClassifier\n",
    "from sklearn.svm import SVC \n",
    "from sklearn.tree import DecisionTreeClassifier\n",
    "from sklearn.ensemble import VotingClassifier, BaggingClassifier, RandomForestClassifier, RandomForestRegressor, AdaBoostClassifier, AdaBoostRegressor, GradientBoostingClassifier, GradientBoostingRegressor\n",
    "from sklearn.metrics import mean_squared_error, accuracy_score, confusion_matrix, classification_report, roc_curve, roc_auc_score\n",
    "\n",
    "# UNSUPERVISED LEARNING TOOLS\n",
    "from sklearn.cluster import KMeans\n",
    "from scipy.cluster.hierarchy import linkage, dendrogram, fcluster\n",
    "from sklearn.manifold import TSNE \n",
    "from sklearn.decomposition import PCA, NMF\n",
    "\n",
    "# DEEP LEARNING TOOLS \n",
    "from sklearn.neural_network import MLPRegressor, MLPClassifier"
   ]
  },
  {
   "cell_type": "code",
   "execution_count": 71,
   "metadata": {},
   "outputs": [],
   "source": [
    "xls = pd.ExcelFile('C:\\\\Users\\\\USER\\\\Downloads\\\\top_Record_form_2.xlsx')\n"
   ]
  },
  {
   "cell_type": "code",
   "execution_count": 72,
   "metadata": {},
   "outputs": [
    {
     "name": "stdout",
     "output_type": "stream",
     "text": [
      "['Sheet1', 'Sheet2', 'Sheet3']\n"
     ]
    }
   ],
   "source": [
    "print(xls.sheet_names)"
   ]
  },
  {
   "cell_type": "code",
   "execution_count": 73,
   "metadata": {},
   "outputs": [
    {
     "data": {
      "text/html": [
       "<div>\n",
       "<style scoped>\n",
       "    .dataframe tbody tr th:only-of-type {\n",
       "        vertical-align: middle;\n",
       "    }\n",
       "\n",
       "    .dataframe tbody tr th {\n",
       "        vertical-align: top;\n",
       "    }\n",
       "\n",
       "    .dataframe thead th {\n",
       "        text-align: right;\n",
       "    }\n",
       "</style>\n",
       "<table border=\"1\" class=\"dataframe\">\n",
       "  <thead>\n",
       "    <tr style=\"text-align: right;\">\n",
       "      <th></th>\n",
       "      <th>patient ID</th>\n",
       "      <th>Intervention group</th>\n",
       "      <th>Time (hr)</th>\n",
       "      <th>Pain score</th>\n",
       "      <th>OP (ml)</th>\n",
       "      <th>Age</th>\n",
       "    </tr>\n",
       "  </thead>\n",
       "  <tbody>\n",
       "    <tr>\n",
       "      <th>0</th>\n",
       "      <td>1</td>\n",
       "      <td>B</td>\n",
       "      <td>6</td>\n",
       "      <td>6</td>\n",
       "      <td>3.0</td>\n",
       "      <td>80</td>\n",
       "    </tr>\n",
       "    <tr>\n",
       "      <th>1</th>\n",
       "      <td>1</td>\n",
       "      <td>B</td>\n",
       "      <td>12</td>\n",
       "      <td>8</td>\n",
       "      <td>7.0</td>\n",
       "      <td>80</td>\n",
       "    </tr>\n",
       "    <tr>\n",
       "      <th>2</th>\n",
       "      <td>1</td>\n",
       "      <td>B</td>\n",
       "      <td>24</td>\n",
       "      <td>5</td>\n",
       "      <td>11.7</td>\n",
       "      <td>80</td>\n",
       "    </tr>\n",
       "    <tr>\n",
       "      <th>3</th>\n",
       "      <td>1</td>\n",
       "      <td>B</td>\n",
       "      <td>48</td>\n",
       "      <td>3</td>\n",
       "      <td>20.0</td>\n",
       "      <td>80</td>\n",
       "    </tr>\n",
       "    <tr>\n",
       "      <th>4</th>\n",
       "      <td>1</td>\n",
       "      <td>B</td>\n",
       "      <td>72</td>\n",
       "      <td>1</td>\n",
       "      <td>24.7</td>\n",
       "      <td>80</td>\n",
       "    </tr>\n",
       "    <tr>\n",
       "      <th>...</th>\n",
       "      <td>...</td>\n",
       "      <td>...</td>\n",
       "      <td>...</td>\n",
       "      <td>...</td>\n",
       "      <td>...</td>\n",
       "      <td>...</td>\n",
       "    </tr>\n",
       "    <tr>\n",
       "      <th>135</th>\n",
       "      <td>28</td>\n",
       "      <td>A</td>\n",
       "      <td>6</td>\n",
       "      <td>5</td>\n",
       "      <td>9.0</td>\n",
       "      <td>67</td>\n",
       "    </tr>\n",
       "    <tr>\n",
       "      <th>136</th>\n",
       "      <td>28</td>\n",
       "      <td>A</td>\n",
       "      <td>12</td>\n",
       "      <td>5</td>\n",
       "      <td>14.0</td>\n",
       "      <td>67</td>\n",
       "    </tr>\n",
       "    <tr>\n",
       "      <th>137</th>\n",
       "      <td>28</td>\n",
       "      <td>A</td>\n",
       "      <td>24</td>\n",
       "      <td>5</td>\n",
       "      <td>21.0</td>\n",
       "      <td>67</td>\n",
       "    </tr>\n",
       "    <tr>\n",
       "      <th>138</th>\n",
       "      <td>28</td>\n",
       "      <td>A</td>\n",
       "      <td>48</td>\n",
       "      <td>3</td>\n",
       "      <td>28.0</td>\n",
       "      <td>67</td>\n",
       "    </tr>\n",
       "    <tr>\n",
       "      <th>139</th>\n",
       "      <td>28</td>\n",
       "      <td>A</td>\n",
       "      <td>72</td>\n",
       "      <td>2</td>\n",
       "      <td>32.0</td>\n",
       "      <td>67</td>\n",
       "    </tr>\n",
       "  </tbody>\n",
       "</table>\n",
       "<p>140 rows × 6 columns</p>\n",
       "</div>"
      ],
      "text/plain": [
       "     patient ID Intervention group  Time (hr)  Pain score  OP (ml)  Age\n",
       "0             1                  B          6           6      3.0   80\n",
       "1             1                  B         12           8      7.0   80\n",
       "2             1                  B         24           5     11.7   80\n",
       "3             1                  B         48           3     20.0   80\n",
       "4             1                  B         72           1     24.7   80\n",
       "..          ...                ...        ...         ...      ...  ...\n",
       "135          28                  A          6           5      9.0   67\n",
       "136          28                  A         12           5     14.0   67\n",
       "137          28                  A         24           5     21.0   67\n",
       "138          28                  A         48           3     28.0   67\n",
       "139          28                  A         72           2     32.0   67\n",
       "\n",
       "[140 rows x 6 columns]"
      ]
     },
     "execution_count": 73,
     "metadata": {},
     "output_type": "execute_result"
    }
   ],
   "source": [
    "df = xls.parse('Sheet3')\n",
    "df"
   ]
  },
  {
   "cell_type": "code",
   "execution_count": 74,
   "metadata": {},
   "outputs": [
    {
     "name": "stdout",
     "output_type": "stream",
     "text": [
      "<class 'pandas.core.frame.DataFrame'>\n",
      "RangeIndex: 140 entries, 0 to 139\n",
      "Data columns (total 6 columns):\n",
      " #   Column              Non-Null Count  Dtype  \n",
      "---  ------              --------------  -----  \n",
      " 0   patient ID          140 non-null    int64  \n",
      " 1   Intervention group  140 non-null    object \n",
      " 2   Time (hr)           140 non-null    int64  \n",
      " 3   Pain score          140 non-null    int64  \n",
      " 4   OP (ml)             140 non-null    float64\n",
      " 5   Age                 140 non-null    int64  \n",
      "dtypes: float64(1), int64(4), object(1)\n",
      "memory usage: 6.7+ KB\n"
     ]
    },
    {
     "data": {
      "text/plain": [
       "patient ID            0\n",
       "Intervention group    0\n",
       "Time (hr)             0\n",
       "Pain score            0\n",
       "OP (ml)               0\n",
       "Age                   0\n",
       "dtype: int64"
      ]
     },
     "execution_count": 74,
     "metadata": {},
     "output_type": "execute_result"
    }
   ],
   "source": [
    "df.info()\n",
    "df.isna().sum()"
   ]
  },
  {
   "cell_type": "code",
   "execution_count": 75,
   "metadata": {},
   "outputs": [
    {
     "data": {
      "text/plain": [
       "<AxesSubplot: xlabel='Intervention group', ylabel='Age'>"
      ]
     },
     "execution_count": 75,
     "metadata": {},
     "output_type": "execute_result"
    },
    {
     "data": {
      "image/png": "[encoded data removed]",
      "text/plain": [
       "<Figure size 640x480 with 1 Axes>"
      ]
     },
     "metadata": {},
     "output_type": "display_data"
    }
   ],
   "source": [
    "sns.boxplot(data = df, x = 'Intervention group', y = 'Age', whis = [0,100])"
   ]
  },
  {
   "cell_type": "code",
   "execution_count": 76,
   "metadata": {},
   "outputs": [
    {
     "data": {
      "text/plain": [
       "Intervention group\n",
       "A    73.0\n",
       "B    74.0\n",
       "Name: Age, dtype: float64"
      ]
     },
     "execution_count": 76,
     "metadata": {},
     "output_type": "execute_result"
    }
   ],
   "source": [
    "df.groupby('Intervention group')['Age'].median()"
   ]
  },
  {
   "cell_type": "code",
   "execution_count": 77,
   "metadata": {},
   "outputs": [
    {
     "data": {
      "text/html": [
       "<div>\n",
       "<style scoped>\n",
       "    .dataframe tbody tr th:only-of-type {\n",
       "        vertical-align: middle;\n",
       "    }\n",
       "\n",
       "    .dataframe tbody tr th {\n",
       "        vertical-align: top;\n",
       "    }\n",
       "\n",
       "    .dataframe thead th {\n",
       "        text-align: right;\n",
       "    }\n",
       "</style>\n",
       "<table border=\"1\" class=\"dataframe\">\n",
       "  <thead>\n",
       "    <tr style=\"text-align: right;\">\n",
       "      <th></th>\n",
       "      <th>U-val</th>\n",
       "      <th>alternative</th>\n",
       "      <th>p-val</th>\n",
       "      <th>RBC</th>\n",
       "      <th>CLES</th>\n",
       "    </tr>\n",
       "  </thead>\n",
       "  <tbody>\n",
       "    <tr>\n",
       "      <th>MWU</th>\n",
       "      <td>2475.0</td>\n",
       "      <td>two-sided</td>\n",
       "      <td>0.918501</td>\n",
       "      <td>-0.010204</td>\n",
       "      <td>0.505102</td>\n",
       "    </tr>\n",
       "  </tbody>\n",
       "</table>\n",
       "</div>"
      ],
      "text/plain": [
       "      U-val alternative     p-val       RBC      CLES\n",
       "MWU  2475.0   two-sided  0.918501 -0.010204  0.505102"
      ]
     },
     "execution_count": 77,
     "metadata": {},
     "output_type": "execute_result"
    }
   ],
   "source": [
    "compare_age = pg.mwu(df[df['Intervention group'] == 'A']['Age'], df[df['Intervention group'] == 'B']['Age'], alternative = 'two-sided')\n",
    "compare_age"
   ]
  },
  {
   "cell_type": "markdown",
   "metadata": {},
   "source": [
    "We conducted a mann-whitney u test to compare the mean ages of participants in Group A and Group B.\n",
    "The summary statistics and test results are as follows:\n",
    "- Group A: Median Age = 73.0 years\n",
    "- Group B: Median Age = 74.0 years\n",
    "- p-value: 0.918501\n",
    "In summary, there is no significant difference in the age baseline characteristic between Group A and Group B based on the given data."
   ]
  },
  {
   "cell_type": "code",
   "execution_count": 78,
   "metadata": {},
   "outputs": [],
   "source": [
    "df = df.rename(columns = {'Time (hr)':'hour', 'Intervention group':'group', 'patient ID':'patient', 'Pain score':'painscore', 'OP (ml)':'OP'})"
   ]
  },
  {
   "cell_type": "code",
   "execution_count": 79,
   "metadata": {},
   "outputs": [
    {
     "name": "stdout",
     "output_type": "stream",
     "text": [
      "         Mixed Linear Model Regression Results\n",
      "=======================================================\n",
      "Model:            MixedLM Dependent Variable: painscore\n",
      "No. Observations: 140     Method:             REML     \n",
      "No. Groups:       28      Scale:              0.6408   \n",
      "Min. group size:  5       Log-Likelihood:     -193.7429\n",
      "Max. group size:  5       Converged:          Yes      \n",
      "Mean group size:  5.0                                  \n",
      "-------------------------------------------------------\n",
      "            Coef.  Std.Err.    z    P>|z| [0.025 0.975]\n",
      "-------------------------------------------------------\n",
      "Intercept    3.626    2.068   1.753 0.080 -0.427  7.678\n",
      "group[T.B]  -0.744    0.528  -1.411 0.158 -1.778  0.290\n",
      "hour        -0.044    0.003 -16.099 0.000 -0.050 -0.039\n",
      "Age          0.028    0.022   1.240 0.215 -0.016  0.071\n",
      "1 | patient -0.031    0.033  -0.921 0.357 -0.096  0.035\n",
      "Group Var    0.292    0.167                            \n",
      "=======================================================\n",
      "\n"
     ]
    }
   ],
   "source": [
    "formula = 'painscore ~ hour + Age + group + (1 | patient)'\n",
    "lmm = smf.mixedlm(formula, df, groups=df['patient']).fit()\n",
    "print(lmm.summary())"
   ]
  },
  {
   "cell_type": "markdown",
   "metadata": {},
   "source": [
    "## Conclusion\n",
    "### Outcome Measure: The primary outcome measure was pain score, assessed at multiple time points (hours).\n",
    "Effectiveness Over Time: There is a significant reduction in pain scores over time (hour), suggesting that as time progresses, patients' pain scores decrease significantly.(p-value < 0.000)\n",
    "\n",
    "Group Comparison: While group B shows a trend towards lower pain scores compared to group A, this difference is not statistically significant, meaning we cannot conclusively state that group B is more effective than group A based on the current data.(p-value 0.158)\n",
    "\n",
    "Age Adjustment: Age does not appear to have a significant effect on pain scores, indicating that the observed differences in pain scores over time and between groups are not confounded by the age of the patients.(p-value 0.215)"
   ]
  },
  {
   "cell_type": "code",
   "execution_count": 80,
   "metadata": {},
   "outputs": [
    {
     "name": "stderr",
     "output_type": "stream",
     "text": [
      "C:\\Users\\USER\\AppData\\Local\\Temp\\ipykernel_7184\\3007090655.py:2: FutureWarning: \n",
      "\n",
      "The `ci` parameter is deprecated. Use `errorbar=None` for the same effect.\n",
      "\n",
      "  sns.lineplot(data=df, x='hour', y='painscore', hue='group', markers=True, ci=None, palette='Set1')\n"
     ]
    },
    {
     "data": {
      "image/png": "[encoded data removed]",
      "text/plain": [
       "<Figure size 1200x600 with 1 Axes>"
      ]
     },
     "metadata": {},
     "output_type": "display_data"
    }
   ],
   "source": [
    "plt.figure(figsize=(12, 6))\n",
    "sns.lineplot(data=df, x='hour', y='painscore', hue='group', markers=True, ci=None, palette='Set1')\n",
    "plt.title('Pain score Over Hour by Age, and Intervention')\n",
    "plt.xlabel('Hour')\n",
    "plt.ylabel('Score')\n",
    "plt.legend(title='Group')\n",
    "plt.show()"
   ]
  },
  {
   "cell_type": "code",
   "execution_count": 81,
   "metadata": {},
   "outputs": [
    {
     "data": {
      "image/png": "[encoded data removed]",
      "text/plain": [
       "<Figure size 1200x600 with 1 Axes>"
      ]
     },
     "metadata": {},
     "output_type": "display_data"
    }
   ],
   "source": [
    "# Box plots for scores by intervention group at each time point\n",
    "plt.figure(figsize=(12, 6))\n",
    "sns.boxplot(data=df, x='hour', y='painscore', hue='group', palette='Set2')\n",
    "plt.title('Distribution of Scores by Hour')\n",
    "plt.xlabel('Hour')\n",
    "plt.ylabel('Score')\n",
    "plt.show()"
   ]
  },
  {
   "cell_type": "code",
   "execution_count": 82,
   "metadata": {},
   "outputs": [
    {
     "name": "stdout",
     "output_type": "stream",
     "text": [
      "         Mixed Linear Model Regression Results\n",
      "=======================================================\n",
      "Model:            MixedLM Dependent Variable: OP       \n",
      "No. Observations: 140     Method:             REML     \n",
      "No. Groups:       28      Scale:              22.1244  \n",
      "Min. group size:  5       Log-Likelihood:     -439.3317\n",
      "Max. group size:  5       Converged:          Yes      \n",
      "Mean group size:  5.0                                  \n",
      "-------------------------------------------------------\n",
      "            Coef.  Std.Err.   z    P>|z|  [0.025 0.975]\n",
      "-------------------------------------------------------\n",
      "Intercept   39.660   15.937  2.489 0.013   8.423 70.896\n",
      "group[T.B]  -2.790    4.067 -0.686 0.493 -10.762  5.182\n",
      "hour         0.257    0.016 15.809 0.000   0.225  0.289\n",
      "Age         -0.372    0.171 -2.173 0.030  -0.707 -0.036\n",
      "1 | patient -0.236    0.257 -0.917 0.359  -0.740  0.268\n",
      "Group Var   20.547    1.690                            \n",
      "=======================================================\n",
      "\n"
     ]
    }
   ],
   "source": [
    "formula = 'OP ~ hour + Age + group + (1 | patient)'\n",
    "lmm = smf.mixedlm(formula, df, groups=df['patient']).fit()\n",
    "print(lmm.summary())"
   ]
  },
  {
   "cell_type": "markdown",
   "metadata": {},
   "source": [
    "## Conclusion:\n",
    "### Outcome Measure: The Secondary outcome measure was opioid use (ml), assessed at multiple time points (hours).\n",
    "\n",
    "- Opioid Use Trends: There is a significant baseline level of opioid use, with a noticeable hourly increase.(p-value <0.000)\n",
    "\n",
    "- Group Comparison: There is no statistically significant difference in opioid use between Group A and Group B, \n",
    "suggesting that the interventions associated with these groups do not significantly influence opioid use under the current study conditions.(p-value 0.493)\n",
    "\n",
    "- Age Effect: Older patients tend to have lower opioid use, indicating a potential protective effect of age against opioid consumption.(p-value 0.03)"
   ]
  },
  {
   "cell_type": "code",
   "execution_count": 83,
   "metadata": {},
   "outputs": [
    {
     "name": "stderr",
     "output_type": "stream",
     "text": [
      "C:\\Users\\USER\\AppData\\Local\\Temp\\ipykernel_7184\\2130351722.py:2: FutureWarning: \n",
      "\n",
      "The `ci` parameter is deprecated. Use `errorbar=None` for the same effect.\n",
      "\n",
      "  sns.lineplot(data=df, x='hour', y='OP', hue='group', markers=True, ci=None, palette='Set1')\n"
     ]
    },
    {
     "data": {
      "image/png": "[encoded data removed]",
      "text/plain": [
       "<Figure size 1200x600 with 1 Axes>"
      ]
     },
     "metadata": {},
     "output_type": "display_data"
    }
   ],
   "source": [
    "plt.figure(figsize=(12, 6))\n",
    "sns.lineplot(data=df, x='hour', y='OP', hue='group', markers=True, ci=None, palette='Set1')\n",
    "plt.title('Opioid use Over Hour by Age, and Intervention')\n",
    "plt.xlabel('Hour')\n",
    "plt.ylabel('ml')\n",
    "plt.legend(title='Group')\n",
    "plt.show()"
   ]
  },
  {
   "cell_type": "code",
   "execution_count": 84,
   "metadata": {},
   "outputs": [
    {
     "data": {
      "image/png": "[encoded data removed]",
      "text/plain": [
       "<Figure size 1200x600 with 1 Axes>"
      ]
     },
     "metadata": {},
     "output_type": "display_data"
    }
   ],
   "source": [
    "# Box plots for scores by intervention group at each time point\n",
    "plt.figure(figsize=(12, 6))\n",
    "sns.boxplot(data=df, x='hour', y='OP', hue='group', palette='Set2')\n",
    "plt.title('Distribution of Opioid use by Hour')\n",
    "plt.xlabel('Hour')\n",
    "plt.ylabel('ml')\n",
    "plt.show()"
   ]
  },
  {
   "cell_type": "markdown",
   "metadata": {},
   "source": [
    "### SUBGROUP ANALYSIS"
   ]
  },
  {
   "cell_type": "code",
   "execution_count": 85,
   "metadata": {},
   "outputs": [
    {
     "data": {
      "text/html": [
       "<div>\n",
       "<style scoped>\n",
       "    .dataframe tbody tr th:only-of-type {\n",
       "        vertical-align: middle;\n",
       "    }\n",
       "\n",
       "    .dataframe tbody tr th {\n",
       "        vertical-align: top;\n",
       "    }\n",
       "\n",
       "    .dataframe thead th {\n",
       "        text-align: right;\n",
       "    }\n",
       "</style>\n",
       "<table border=\"1\" class=\"dataframe\">\n",
       "  <thead>\n",
       "    <tr style=\"text-align: right;\">\n",
       "      <th></th>\n",
       "      <th>patient</th>\n",
       "      <th>group</th>\n",
       "      <th>hour</th>\n",
       "      <th>painscore</th>\n",
       "      <th>OP</th>\n",
       "      <th>Age</th>\n",
       "    </tr>\n",
       "  </thead>\n",
       "  <tbody>\n",
       "    <tr>\n",
       "      <th>0</th>\n",
       "      <td>1</td>\n",
       "      <td>B</td>\n",
       "      <td>6</td>\n",
       "      <td>6</td>\n",
       "      <td>3.0</td>\n",
       "      <td>80</td>\n",
       "    </tr>\n",
       "    <tr>\n",
       "      <th>1</th>\n",
       "      <td>1</td>\n",
       "      <td>B</td>\n",
       "      <td>12</td>\n",
       "      <td>8</td>\n",
       "      <td>7.0</td>\n",
       "      <td>80</td>\n",
       "    </tr>\n",
       "    <tr>\n",
       "      <th>2</th>\n",
       "      <td>1</td>\n",
       "      <td>B</td>\n",
       "      <td>24</td>\n",
       "      <td>5</td>\n",
       "      <td>11.7</td>\n",
       "      <td>80</td>\n",
       "    </tr>\n",
       "    <tr>\n",
       "      <th>3</th>\n",
       "      <td>1</td>\n",
       "      <td>B</td>\n",
       "      <td>48</td>\n",
       "      <td>3</td>\n",
       "      <td>20.0</td>\n",
       "      <td>80</td>\n",
       "    </tr>\n",
       "    <tr>\n",
       "      <th>4</th>\n",
       "      <td>1</td>\n",
       "      <td>B</td>\n",
       "      <td>72</td>\n",
       "      <td>1</td>\n",
       "      <td>24.7</td>\n",
       "      <td>80</td>\n",
       "    </tr>\n",
       "    <tr>\n",
       "      <th>...</th>\n",
       "      <td>...</td>\n",
       "      <td>...</td>\n",
       "      <td>...</td>\n",
       "      <td>...</td>\n",
       "      <td>...</td>\n",
       "      <td>...</td>\n",
       "    </tr>\n",
       "    <tr>\n",
       "      <th>135</th>\n",
       "      <td>28</td>\n",
       "      <td>A</td>\n",
       "      <td>6</td>\n",
       "      <td>5</td>\n",
       "      <td>9.0</td>\n",
       "      <td>67</td>\n",
       "    </tr>\n",
       "    <tr>\n",
       "      <th>136</th>\n",
       "      <td>28</td>\n",
       "      <td>A</td>\n",
       "      <td>12</td>\n",
       "      <td>5</td>\n",
       "      <td>14.0</td>\n",
       "      <td>67</td>\n",
       "    </tr>\n",
       "    <tr>\n",
       "      <th>137</th>\n",
       "      <td>28</td>\n",
       "      <td>A</td>\n",
       "      <td>24</td>\n",
       "      <td>5</td>\n",
       "      <td>21.0</td>\n",
       "      <td>67</td>\n",
       "    </tr>\n",
       "    <tr>\n",
       "      <th>138</th>\n",
       "      <td>28</td>\n",
       "      <td>A</td>\n",
       "      <td>48</td>\n",
       "      <td>3</td>\n",
       "      <td>28.0</td>\n",
       "      <td>67</td>\n",
       "    </tr>\n",
       "    <tr>\n",
       "      <th>139</th>\n",
       "      <td>28</td>\n",
       "      <td>A</td>\n",
       "      <td>72</td>\n",
       "      <td>2</td>\n",
       "      <td>32.0</td>\n",
       "      <td>67</td>\n",
       "    </tr>\n",
       "  </tbody>\n",
       "</table>\n",
       "<p>140 rows × 6 columns</p>\n",
       "</div>"
      ],
      "text/plain": [
       "     patient group  hour  painscore    OP  Age\n",
       "0          1     B     6          6   3.0   80\n",
       "1          1     B    12          8   7.0   80\n",
       "2          1     B    24          5  11.7   80\n",
       "3          1     B    48          3  20.0   80\n",
       "4          1     B    72          1  24.7   80\n",
       "..       ...   ...   ...        ...   ...  ...\n",
       "135       28     A     6          5   9.0   67\n",
       "136       28     A    12          5  14.0   67\n",
       "137       28     A    24          5  21.0   67\n",
       "138       28     A    48          3  28.0   67\n",
       "139       28     A    72          2  32.0   67\n",
       "\n",
       "[140 rows x 6 columns]"
      ]
     },
     "execution_count": 85,
     "metadata": {},
     "output_type": "execute_result"
    }
   ],
   "source": [
    "df"
   ]
  },
  {
   "cell_type": "markdown",
   "metadata": {},
   "source": [
    "PAIN SCORE"
   ]
  },
  {
   "cell_type": "code",
   "execution_count": 86,
   "metadata": {},
   "outputs": [
    {
     "data": {
      "text/html": [
       "<div>\n",
       "<style scoped>\n",
       "    .dataframe tbody tr th:only-of-type {\n",
       "        vertical-align: middle;\n",
       "    }\n",
       "\n",
       "    .dataframe tbody tr th {\n",
       "        vertical-align: top;\n",
       "    }\n",
       "\n",
       "    .dataframe thead th {\n",
       "        text-align: right;\n",
       "    }\n",
       "</style>\n",
       "<table border=\"1\" class=\"dataframe\">\n",
       "  <thead>\n",
       "    <tr style=\"text-align: right;\">\n",
       "      <th>hour</th>\n",
       "      <th>6</th>\n",
       "      <th>12</th>\n",
       "      <th>24</th>\n",
       "      <th>48</th>\n",
       "      <th>72</th>\n",
       "    </tr>\n",
       "    <tr>\n",
       "      <th>group</th>\n",
       "      <th></th>\n",
       "      <th></th>\n",
       "      <th></th>\n",
       "      <th></th>\n",
       "      <th></th>\n",
       "    </tr>\n",
       "  </thead>\n",
       "  <tbody>\n",
       "    <tr>\n",
       "      <th>A</th>\n",
       "      <td>5.0</td>\n",
       "      <td>5.0</td>\n",
       "      <td>3.0</td>\n",
       "      <td>3.0</td>\n",
       "      <td>2.0</td>\n",
       "    </tr>\n",
       "    <tr>\n",
       "      <th>B</th>\n",
       "      <td>4.0</td>\n",
       "      <td>4.0</td>\n",
       "      <td>3.0</td>\n",
       "      <td>2.5</td>\n",
       "      <td>2.0</td>\n",
       "    </tr>\n",
       "  </tbody>\n",
       "</table>\n",
       "</div>"
      ],
      "text/plain": [
       "hour    6    12   24   48   72\n",
       "group                         \n",
       "A      5.0  5.0  3.0  3.0  2.0\n",
       "B      4.0  4.0  3.0  2.5  2.0"
      ]
     },
     "execution_count": 86,
     "metadata": {},
     "output_type": "execute_result"
    }
   ],
   "source": [
    "df.groupby(['group', 'hour'])['painscore'].median().unstack()"
   ]
  },
  {
   "cell_type": "code",
   "execution_count": 87,
   "metadata": {},
   "outputs": [
    {
     "data": {
      "text/html": [
       "<div>\n",
       "<style scoped>\n",
       "    .dataframe tbody tr th:only-of-type {\n",
       "        vertical-align: middle;\n",
       "    }\n",
       "\n",
       "    .dataframe tbody tr th {\n",
       "        vertical-align: top;\n",
       "    }\n",
       "\n",
       "    .dataframe thead th {\n",
       "        text-align: right;\n",
       "    }\n",
       "</style>\n",
       "<table border=\"1\" class=\"dataframe\">\n",
       "  <thead>\n",
       "    <tr style=\"text-align: right;\">\n",
       "      <th></th>\n",
       "      <th>U-val</th>\n",
       "      <th>alternative</th>\n",
       "      <th>p-val</th>\n",
       "      <th>RBC</th>\n",
       "      <th>CLES</th>\n",
       "    </tr>\n",
       "  </thead>\n",
       "  <tbody>\n",
       "    <tr>\n",
       "      <th>MWU</th>\n",
       "      <td>138.5</td>\n",
       "      <td>two-sided</td>\n",
       "      <td>0.052684</td>\n",
       "      <td>-0.413265</td>\n",
       "      <td>0.706633</td>\n",
       "    </tr>\n",
       "  </tbody>\n",
       "</table>\n",
       "</div>"
      ],
      "text/plain": [
       "     U-val alternative     p-val       RBC      CLES\n",
       "MWU  138.5   two-sided  0.052684 -0.413265  0.706633"
      ]
     },
     "execution_count": 87,
     "metadata": {},
     "output_type": "execute_result"
    }
   ],
   "source": [
    "# 6 hr\n",
    "six = df[df['hour'] == 6]\n",
    "six_ps = pg.mwu(six[six['group'] == 'A']['painscore'], six[six['group'] == 'B']['painscore'], alternative = 'two-sided')\n",
    "six_ps"
   ]
  },
  {
   "cell_type": "code",
   "execution_count": 88,
   "metadata": {},
   "outputs": [
    {
     "data": {
      "text/html": [
       "<div>\n",
       "<style scoped>\n",
       "    .dataframe tbody tr th:only-of-type {\n",
       "        vertical-align: middle;\n",
       "    }\n",
       "\n",
       "    .dataframe tbody tr th {\n",
       "        vertical-align: top;\n",
       "    }\n",
       "\n",
       "    .dataframe thead th {\n",
       "        text-align: right;\n",
       "    }\n",
       "</style>\n",
       "<table border=\"1\" class=\"dataframe\">\n",
       "  <thead>\n",
       "    <tr style=\"text-align: right;\">\n",
       "      <th></th>\n",
       "      <th>U-val</th>\n",
       "      <th>alternative</th>\n",
       "      <th>p-val</th>\n",
       "      <th>RBC</th>\n",
       "      <th>CLES</th>\n",
       "    </tr>\n",
       "  </thead>\n",
       "  <tbody>\n",
       "    <tr>\n",
       "      <th>MWU</th>\n",
       "      <td>103.5</td>\n",
       "      <td>two-sided</td>\n",
       "      <td>0.809061</td>\n",
       "      <td>-0.056122</td>\n",
       "      <td>0.528061</td>\n",
       "    </tr>\n",
       "  </tbody>\n",
       "</table>\n",
       "</div>"
      ],
      "text/plain": [
       "     U-val alternative     p-val       RBC      CLES\n",
       "MWU  103.5   two-sided  0.809061 -0.056122  0.528061"
      ]
     },
     "execution_count": 88,
     "metadata": {},
     "output_type": "execute_result"
    }
   ],
   "source": [
    "# 12 hr\n",
    "twelve = df[df['hour'] == 12]\n",
    "twelve_ps = pg.mwu(twelve[twelve['group'] == 'A']['painscore'], twelve[twelve['group'] == 'B']['painscore'], alternative = 'two-sided')\n",
    "twelve_ps"
   ]
  },
  {
   "cell_type": "code",
   "execution_count": 89,
   "metadata": {},
   "outputs": [
    {
     "data": {
      "text/html": [
       "<div>\n",
       "<style scoped>\n",
       "    .dataframe tbody tr th:only-of-type {\n",
       "        vertical-align: middle;\n",
       "    }\n",
       "\n",
       "    .dataframe tbody tr th {\n",
       "        vertical-align: top;\n",
       "    }\n",
       "\n",
       "    .dataframe thead th {\n",
       "        text-align: right;\n",
       "    }\n",
       "</style>\n",
       "<table border=\"1\" class=\"dataframe\">\n",
       "  <thead>\n",
       "    <tr style=\"text-align: right;\">\n",
       "      <th></th>\n",
       "      <th>U-val</th>\n",
       "      <th>alternative</th>\n",
       "      <th>p-val</th>\n",
       "      <th>RBC</th>\n",
       "      <th>CLES</th>\n",
       "    </tr>\n",
       "  </thead>\n",
       "  <tbody>\n",
       "    <tr>\n",
       "      <th>MWU</th>\n",
       "      <td>105.0</td>\n",
       "      <td>two-sided</td>\n",
       "      <td>0.712145</td>\n",
       "      <td>-0.071429</td>\n",
       "      <td>0.535714</td>\n",
       "    </tr>\n",
       "  </tbody>\n",
       "</table>\n",
       "</div>"
      ],
      "text/plain": [
       "     U-val alternative     p-val       RBC      CLES\n",
       "MWU  105.0   two-sided  0.712145 -0.071429  0.535714"
      ]
     },
     "execution_count": 89,
     "metadata": {},
     "output_type": "execute_result"
    }
   ],
   "source": [
    "# 24 hr\n",
    "twentyfour = df[df['hour'] == 24]\n",
    "twentyfour_ps = pg.mwu(twentyfour[twentyfour['group'] == 'A']['painscore'], twentyfour[twentyfour['group'] == 'B']['painscore'], alternative = 'two-sided')\n",
    "twentyfour_ps"
   ]
  },
  {
   "cell_type": "code",
   "execution_count": 90,
   "metadata": {},
   "outputs": [
    {
     "data": {
      "text/html": [
       "<div>\n",
       "<style scoped>\n",
       "    .dataframe tbody tr th:only-of-type {\n",
       "        vertical-align: middle;\n",
       "    }\n",
       "\n",
       "    .dataframe tbody tr th {\n",
       "        vertical-align: top;\n",
       "    }\n",
       "\n",
       "    .dataframe thead th {\n",
       "        text-align: right;\n",
       "    }\n",
       "</style>\n",
       "<table border=\"1\" class=\"dataframe\">\n",
       "  <thead>\n",
       "    <tr style=\"text-align: right;\">\n",
       "      <th></th>\n",
       "      <th>U-val</th>\n",
       "      <th>alternative</th>\n",
       "      <th>p-val</th>\n",
       "      <th>RBC</th>\n",
       "      <th>CLES</th>\n",
       "    </tr>\n",
       "  </thead>\n",
       "  <tbody>\n",
       "    <tr>\n",
       "      <th>MWU</th>\n",
       "      <td>134.0</td>\n",
       "      <td>two-sided</td>\n",
       "      <td>0.064755</td>\n",
       "      <td>-0.367347</td>\n",
       "      <td>0.683673</td>\n",
       "    </tr>\n",
       "  </tbody>\n",
       "</table>\n",
       "</div>"
      ],
      "text/plain": [
       "     U-val alternative     p-val       RBC      CLES\n",
       "MWU  134.0   two-sided  0.064755 -0.367347  0.683673"
      ]
     },
     "execution_count": 90,
     "metadata": {},
     "output_type": "execute_result"
    }
   ],
   "source": [
    "# 48 hr\n",
    "fourtyeight = df[df['hour'] == 48]\n",
    "fourtyeight_ps = pg.mwu(fourtyeight[fourtyeight['group'] == 'A']['painscore'], fourtyeight[fourtyeight['group'] == 'B']['painscore'], alternative = 'two-sided')\n",
    "fourtyeight_ps"
   ]
  },
  {
   "cell_type": "code",
   "execution_count": 91,
   "metadata": {},
   "outputs": [
    {
     "data": {
      "text/html": [
       "<div>\n",
       "<style scoped>\n",
       "    .dataframe tbody tr th:only-of-type {\n",
       "        vertical-align: middle;\n",
       "    }\n",
       "\n",
       "    .dataframe tbody tr th {\n",
       "        vertical-align: top;\n",
       "    }\n",
       "\n",
       "    .dataframe thead th {\n",
       "        text-align: right;\n",
       "    }\n",
       "</style>\n",
       "<table border=\"1\" class=\"dataframe\">\n",
       "  <thead>\n",
       "    <tr style=\"text-align: right;\">\n",
       "      <th></th>\n",
       "      <th>U-val</th>\n",
       "      <th>alternative</th>\n",
       "      <th>p-val</th>\n",
       "      <th>RBC</th>\n",
       "      <th>CLES</th>\n",
       "    </tr>\n",
       "  </thead>\n",
       "  <tbody>\n",
       "    <tr>\n",
       "      <th>MWU</th>\n",
       "      <td>105.5</td>\n",
       "      <td>two-sided</td>\n",
       "      <td>0.717421</td>\n",
       "      <td>-0.076531</td>\n",
       "      <td>0.538265</td>\n",
       "    </tr>\n",
       "  </tbody>\n",
       "</table>\n",
       "</div>"
      ],
      "text/plain": [
       "     U-val alternative     p-val       RBC      CLES\n",
       "MWU  105.5   two-sided  0.717421 -0.076531  0.538265"
      ]
     },
     "execution_count": 91,
     "metadata": {},
     "output_type": "execute_result"
    }
   ],
   "source": [
    "# 72 hr\n",
    "seventytwo = df[df['hour'] == 72]\n",
    "seventytwo_ps = pg.mwu(seventytwo[seventytwo['group'] == 'A']['painscore'], seventytwo[seventytwo['group'] == 'B']['painscore'], alternative = 'two-sided')\n",
    "seventytwo_ps"
   ]
  },
  {
   "cell_type": "markdown",
   "metadata": {},
   "source": [
    "OPIOID USE "
   ]
  },
  {
   "cell_type": "code",
   "execution_count": 92,
   "metadata": {},
   "outputs": [
    {
     "data": {
      "text/html": [
       "<div>\n",
       "<style scoped>\n",
       "    .dataframe tbody tr th:only-of-type {\n",
       "        vertical-align: middle;\n",
       "    }\n",
       "\n",
       "    .dataframe tbody tr th {\n",
       "        vertical-align: top;\n",
       "    }\n",
       "\n",
       "    .dataframe thead th {\n",
       "        text-align: right;\n",
       "    }\n",
       "</style>\n",
       "<table border=\"1\" class=\"dataframe\">\n",
       "  <thead>\n",
       "    <tr style=\"text-align: right;\">\n",
       "      <th>hour</th>\n",
       "      <th>6</th>\n",
       "      <th>12</th>\n",
       "      <th>24</th>\n",
       "      <th>48</th>\n",
       "      <th>72</th>\n",
       "    </tr>\n",
       "    <tr>\n",
       "      <th>group</th>\n",
       "      <th></th>\n",
       "      <th></th>\n",
       "      <th></th>\n",
       "      <th></th>\n",
       "      <th></th>\n",
       "    </tr>\n",
       "  </thead>\n",
       "  <tbody>\n",
       "    <tr>\n",
       "      <th>A</th>\n",
       "      <td>5.5</td>\n",
       "      <td>10.0</td>\n",
       "      <td>16.0</td>\n",
       "      <td>18.0</td>\n",
       "      <td>22.50</td>\n",
       "    </tr>\n",
       "    <tr>\n",
       "      <th>B</th>\n",
       "      <td>7.0</td>\n",
       "      <td>11.0</td>\n",
       "      <td>16.0</td>\n",
       "      <td>20.0</td>\n",
       "      <td>23.35</td>\n",
       "    </tr>\n",
       "  </tbody>\n",
       "</table>\n",
       "</div>"
      ],
      "text/plain": [
       "hour    6     12    24    48     72\n",
       "group                              \n",
       "A      5.5  10.0  16.0  18.0  22.50\n",
       "B      7.0  11.0  16.0  20.0  23.35"
      ]
     },
     "execution_count": 92,
     "metadata": {},
     "output_type": "execute_result"
    }
   ],
   "source": [
    "df.groupby(['group', 'hour'])['OP'].median().unstack()"
   ]
  },
  {
   "cell_type": "code",
   "execution_count": 93,
   "metadata": {},
   "outputs": [
    {
     "data": {
      "text/html": [
       "<div>\n",
       "<style scoped>\n",
       "    .dataframe tbody tr th:only-of-type {\n",
       "        vertical-align: middle;\n",
       "    }\n",
       "\n",
       "    .dataframe tbody tr th {\n",
       "        vertical-align: top;\n",
       "    }\n",
       "\n",
       "    .dataframe thead th {\n",
       "        text-align: right;\n",
       "    }\n",
       "</style>\n",
       "<table border=\"1\" class=\"dataframe\">\n",
       "  <thead>\n",
       "    <tr style=\"text-align: right;\">\n",
       "      <th></th>\n",
       "      <th>U-val</th>\n",
       "      <th>alternative</th>\n",
       "      <th>p-val</th>\n",
       "      <th>RBC</th>\n",
       "      <th>CLES</th>\n",
       "    </tr>\n",
       "  </thead>\n",
       "  <tbody>\n",
       "    <tr>\n",
       "      <th>MWU</th>\n",
       "      <td>81.0</td>\n",
       "      <td>two-sided</td>\n",
       "      <td>0.436516</td>\n",
       "      <td>0.173469</td>\n",
       "      <td>0.413265</td>\n",
       "    </tr>\n",
       "  </tbody>\n",
       "</table>\n",
       "</div>"
      ],
      "text/plain": [
       "     U-val alternative     p-val       RBC      CLES\n",
       "MWU   81.0   two-sided  0.436516  0.173469  0.413265"
      ]
     },
     "execution_count": 93,
     "metadata": {},
     "output_type": "execute_result"
    }
   ],
   "source": [
    "# 6 hr\n",
    "six_op = pg.mwu(six[six['group'] == 'A']['OP'], six[six['group'] == 'B']['OP'], alternative = 'two-sided')\n",
    "six_op"
   ]
  },
  {
   "cell_type": "code",
   "execution_count": 94,
   "metadata": {},
   "outputs": [
    {
     "data": {
      "text/html": [
       "<div>\n",
       "<style scoped>\n",
       "    .dataframe tbody tr th:only-of-type {\n",
       "        vertical-align: middle;\n",
       "    }\n",
       "\n",
       "    .dataframe tbody tr th {\n",
       "        vertical-align: top;\n",
       "    }\n",
       "\n",
       "    .dataframe thead th {\n",
       "        text-align: right;\n",
       "    }\n",
       "</style>\n",
       "<table border=\"1\" class=\"dataframe\">\n",
       "  <thead>\n",
       "    <tr style=\"text-align: right;\">\n",
       "      <th></th>\n",
       "      <th>U-val</th>\n",
       "      <th>alternative</th>\n",
       "      <th>p-val</th>\n",
       "      <th>RBC</th>\n",
       "      <th>CLES</th>\n",
       "    </tr>\n",
       "  </thead>\n",
       "  <tbody>\n",
       "    <tr>\n",
       "      <th>MWU</th>\n",
       "      <td>93.0</td>\n",
       "      <td>two-sided</td>\n",
       "      <td>0.834579</td>\n",
       "      <td>0.05102</td>\n",
       "      <td>0.47449</td>\n",
       "    </tr>\n",
       "  </tbody>\n",
       "</table>\n",
       "</div>"
      ],
      "text/plain": [
       "     U-val alternative     p-val      RBC     CLES\n",
       "MWU   93.0   two-sided  0.834579  0.05102  0.47449"
      ]
     },
     "execution_count": 94,
     "metadata": {},
     "output_type": "execute_result"
    }
   ],
   "source": [
    "# 12 hr\n",
    "twelve_op = pg.mwu(twelve[twelve['group'] == 'A']['OP'], twelve[twelve['group'] == 'B']['OP'], alternative = 'two-sided')\n",
    "twelve_op"
   ]
  },
  {
   "cell_type": "code",
   "execution_count": 95,
   "metadata": {},
   "outputs": [
    {
     "data": {
      "text/html": [
       "<div>\n",
       "<style scoped>\n",
       "    .dataframe tbody tr th:only-of-type {\n",
       "        vertical-align: middle;\n",
       "    }\n",
       "\n",
       "    .dataframe tbody tr th {\n",
       "        vertical-align: top;\n",
       "    }\n",
       "\n",
       "    .dataframe thead th {\n",
       "        text-align: right;\n",
       "    }\n",
       "</style>\n",
       "<table border=\"1\" class=\"dataframe\">\n",
       "  <thead>\n",
       "    <tr style=\"text-align: right;\">\n",
       "      <th></th>\n",
       "      <th>U-val</th>\n",
       "      <th>alternative</th>\n",
       "      <th>p-val</th>\n",
       "      <th>RBC</th>\n",
       "      <th>CLES</th>\n",
       "    </tr>\n",
       "  </thead>\n",
       "  <tbody>\n",
       "    <tr>\n",
       "      <th>MWU</th>\n",
       "      <td>104.0</td>\n",
       "      <td>two-sided</td>\n",
       "      <td>0.797958</td>\n",
       "      <td>-0.061224</td>\n",
       "      <td>0.530612</td>\n",
       "    </tr>\n",
       "  </tbody>\n",
       "</table>\n",
       "</div>"
      ],
      "text/plain": [
       "     U-val alternative     p-val       RBC      CLES\n",
       "MWU  104.0   two-sided  0.797958 -0.061224  0.530612"
      ]
     },
     "execution_count": 95,
     "metadata": {},
     "output_type": "execute_result"
    }
   ],
   "source": [
    "# 24 hr\n",
    "twentyfour_op = pg.mwu(twentyfour[twentyfour['group'] == 'A']['OP'], twentyfour[twentyfour['group'] == 'B']['OP'], alternative = 'two-sided')\n",
    "twentyfour_op"
   ]
  },
  {
   "cell_type": "code",
   "execution_count": 96,
   "metadata": {},
   "outputs": [
    {
     "data": {
      "text/html": [
       "<div>\n",
       "<style scoped>\n",
       "    .dataframe tbody tr th:only-of-type {\n",
       "        vertical-align: middle;\n",
       "    }\n",
       "\n",
       "    .dataframe tbody tr th {\n",
       "        vertical-align: top;\n",
       "    }\n",
       "\n",
       "    .dataframe thead th {\n",
       "        text-align: right;\n",
       "    }\n",
       "</style>\n",
       "<table border=\"1\" class=\"dataframe\">\n",
       "  <thead>\n",
       "    <tr style=\"text-align: right;\">\n",
       "      <th></th>\n",
       "      <th>U-val</th>\n",
       "      <th>alternative</th>\n",
       "      <th>p-val</th>\n",
       "      <th>RBC</th>\n",
       "      <th>CLES</th>\n",
       "    </tr>\n",
       "  </thead>\n",
       "  <tbody>\n",
       "    <tr>\n",
       "      <th>MWU</th>\n",
       "      <td>109.5</td>\n",
       "      <td>two-sided</td>\n",
       "      <td>0.610661</td>\n",
       "      <td>-0.117347</td>\n",
       "      <td>0.558673</td>\n",
       "    </tr>\n",
       "  </tbody>\n",
       "</table>\n",
       "</div>"
      ],
      "text/plain": [
       "     U-val alternative     p-val       RBC      CLES\n",
       "MWU  109.5   two-sided  0.610661 -0.117347  0.558673"
      ]
     },
     "execution_count": 96,
     "metadata": {},
     "output_type": "execute_result"
    }
   ],
   "source": [
    "# 48 hr\n",
    "fourtyeight_op = pg.mwu(fourtyeight[fourtyeight['group'] == 'A']['OP'], fourtyeight[fourtyeight['group'] == 'B']['OP'], alternative = 'two-sided')\n",
    "fourtyeight_op"
   ]
  },
  {
   "cell_type": "code",
   "execution_count": 97,
   "metadata": {},
   "outputs": [
    {
     "data": {
      "text/html": [
       "<div>\n",
       "<style scoped>\n",
       "    .dataframe tbody tr th:only-of-type {\n",
       "        vertical-align: middle;\n",
       "    }\n",
       "\n",
       "    .dataframe tbody tr th {\n",
       "        vertical-align: top;\n",
       "    }\n",
       "\n",
       "    .dataframe thead th {\n",
       "        text-align: right;\n",
       "    }\n",
       "</style>\n",
       "<table border=\"1\" class=\"dataframe\">\n",
       "  <thead>\n",
       "    <tr style=\"text-align: right;\">\n",
       "      <th></th>\n",
       "      <th>U-val</th>\n",
       "      <th>alternative</th>\n",
       "      <th>p-val</th>\n",
       "      <th>RBC</th>\n",
       "      <th>CLES</th>\n",
       "    </tr>\n",
       "  </thead>\n",
       "  <tbody>\n",
       "    <tr>\n",
       "      <th>MWU</th>\n",
       "      <td>108.0</td>\n",
       "      <td>two-sided</td>\n",
       "      <td>0.661776</td>\n",
       "      <td>-0.102041</td>\n",
       "      <td>0.55102</td>\n",
       "    </tr>\n",
       "  </tbody>\n",
       "</table>\n",
       "</div>"
      ],
      "text/plain": [
       "     U-val alternative     p-val       RBC     CLES\n",
       "MWU  108.0   two-sided  0.661776 -0.102041  0.55102"
      ]
     },
     "execution_count": 97,
     "metadata": {},
     "output_type": "execute_result"
    }
   ],
   "source": [
    "# 72 hr \n",
    "seventytwo_op = pg.mwu(seventytwo[seventytwo['group'] == 'A']['OP'], seventytwo[seventytwo['group'] == 'B']['OP'], alternative = 'two-sided')\n",
    "seventytwo_op"
   ]
  },
  {
   "cell_type": "code",
   "execution_count": 98,
   "metadata": {},
   "outputs": [
    {
     "data": {
      "image/png": "[encoded data removed]",
      "text/plain": [
       "<Figure size 559.625x500 with 1 Axes>"
      ]
     },
     "metadata": {},
     "output_type": "display_data"
    }
   ],
   "source": [
    "sns.displot(data = df, x = 'painscore', hue = 'group', kind = 'hist', kde = True, fill = True, multiple = 'dodge', alpha = 0.5)\n",
    "plt.show()"
   ]
  },
  {
   "cell_type": "code",
   "execution_count": 99,
   "metadata": {},
   "outputs": [
    {
     "data": {
      "image/png": "[encoded data removed]",
      "text/plain": [
       "<Figure size 559.625x500 with 1 Axes>"
      ]
     },
     "metadata": {},
     "output_type": "display_data"
    }
   ],
   "source": [
    "sns.displot(data = df, x = 'OP', hue = 'group', kind = 'hist', kde = True, fill = True, multiple = 'dodge', alpha = 0.5)\n",
    "plt.show()"
   ]
  },
  {
   "cell_type": "markdown",
   "metadata": {},
   "source": [
    "# Compare secondary outcome and adverse events"
   ]
  },
  {
   "cell_type": "code",
   "execution_count": 100,
   "metadata": {},
   "outputs": [
    {
     "name": "stdout",
     "output_type": "stream",
     "text": [
      "['Sheet1', 'Sheet2', 'Sheet3', 'Sheet5']\n"
     ]
    },
    {
     "data": {
      "text/html": [
       "<div>\n",
       "<style scoped>\n",
       "    .dataframe tbody tr th:only-of-type {\n",
       "        vertical-align: middle;\n",
       "    }\n",
       "\n",
       "    .dataframe tbody tr th {\n",
       "        vertical-align: top;\n",
       "    }\n",
       "\n",
       "    .dataframe thead th {\n",
       "        text-align: right;\n",
       "    }\n",
       "</style>\n",
       "<table border=\"1\" class=\"dataframe\">\n",
       "  <thead>\n",
       "    <tr style=\"text-align: right;\">\n",
       "      <th></th>\n",
       "      <th>Intervention group</th>\n",
       "      <th>time to ambulate</th>\n",
       "      <th>complication</th>\n",
       "      <th>length of stay</th>\n",
       "    </tr>\n",
       "  </thead>\n",
       "  <tbody>\n",
       "    <tr>\n",
       "      <th>0</th>\n",
       "      <td>B</td>\n",
       "      <td>48</td>\n",
       "      <td>1</td>\n",
       "      <td>12</td>\n",
       "    </tr>\n",
       "    <tr>\n",
       "      <th>1</th>\n",
       "      <td>B</td>\n",
       "      <td>48</td>\n",
       "      <td>0</td>\n",
       "      <td>5</td>\n",
       "    </tr>\n",
       "    <tr>\n",
       "      <th>2</th>\n",
       "      <td>B</td>\n",
       "      <td>48</td>\n",
       "      <td>0</td>\n",
       "      <td>5</td>\n",
       "    </tr>\n",
       "    <tr>\n",
       "      <th>3</th>\n",
       "      <td>B</td>\n",
       "      <td>72</td>\n",
       "      <td>0</td>\n",
       "      <td>8</td>\n",
       "    </tr>\n",
       "    <tr>\n",
       "      <th>4</th>\n",
       "      <td>B</td>\n",
       "      <td>72</td>\n",
       "      <td>0</td>\n",
       "      <td>8</td>\n",
       "    </tr>\n",
       "    <tr>\n",
       "      <th>5</th>\n",
       "      <td>B</td>\n",
       "      <td>48</td>\n",
       "      <td>0</td>\n",
       "      <td>5</td>\n",
       "    </tr>\n",
       "    <tr>\n",
       "      <th>6</th>\n",
       "      <td>B</td>\n",
       "      <td>48</td>\n",
       "      <td>0</td>\n",
       "      <td>5</td>\n",
       "    </tr>\n",
       "    <tr>\n",
       "      <th>7</th>\n",
       "      <td>B</td>\n",
       "      <td>48</td>\n",
       "      <td>0</td>\n",
       "      <td>5</td>\n",
       "    </tr>\n",
       "    <tr>\n",
       "      <th>8</th>\n",
       "      <td>B</td>\n",
       "      <td>48</td>\n",
       "      <td>0</td>\n",
       "      <td>10</td>\n",
       "    </tr>\n",
       "    <tr>\n",
       "      <th>9</th>\n",
       "      <td>B</td>\n",
       "      <td>48</td>\n",
       "      <td>0</td>\n",
       "      <td>5</td>\n",
       "    </tr>\n",
       "    <tr>\n",
       "      <th>10</th>\n",
       "      <td>B</td>\n",
       "      <td>48</td>\n",
       "      <td>0</td>\n",
       "      <td>5</td>\n",
       "    </tr>\n",
       "    <tr>\n",
       "      <th>11</th>\n",
       "      <td>B</td>\n",
       "      <td>72</td>\n",
       "      <td>0</td>\n",
       "      <td>9</td>\n",
       "    </tr>\n",
       "    <tr>\n",
       "      <th>12</th>\n",
       "      <td>B</td>\n",
       "      <td>72</td>\n",
       "      <td>0</td>\n",
       "      <td>7</td>\n",
       "    </tr>\n",
       "    <tr>\n",
       "      <th>13</th>\n",
       "      <td>B</td>\n",
       "      <td>48</td>\n",
       "      <td>0</td>\n",
       "      <td>5</td>\n",
       "    </tr>\n",
       "    <tr>\n",
       "      <th>14</th>\n",
       "      <td>A</td>\n",
       "      <td>48</td>\n",
       "      <td>0</td>\n",
       "      <td>5</td>\n",
       "    </tr>\n",
       "    <tr>\n",
       "      <th>15</th>\n",
       "      <td>A</td>\n",
       "      <td>48</td>\n",
       "      <td>0</td>\n",
       "      <td>7</td>\n",
       "    </tr>\n",
       "    <tr>\n",
       "      <th>16</th>\n",
       "      <td>A</td>\n",
       "      <td>96</td>\n",
       "      <td>1</td>\n",
       "      <td>21</td>\n",
       "    </tr>\n",
       "    <tr>\n",
       "      <th>17</th>\n",
       "      <td>A</td>\n",
       "      <td>72</td>\n",
       "      <td>0</td>\n",
       "      <td>8</td>\n",
       "    </tr>\n",
       "    <tr>\n",
       "      <th>18</th>\n",
       "      <td>A</td>\n",
       "      <td>72</td>\n",
       "      <td>0</td>\n",
       "      <td>8</td>\n",
       "    </tr>\n",
       "    <tr>\n",
       "      <th>19</th>\n",
       "      <td>A</td>\n",
       "      <td>48</td>\n",
       "      <td>0</td>\n",
       "      <td>5</td>\n",
       "    </tr>\n",
       "    <tr>\n",
       "      <th>20</th>\n",
       "      <td>A</td>\n",
       "      <td>48</td>\n",
       "      <td>0</td>\n",
       "      <td>5</td>\n",
       "    </tr>\n",
       "    <tr>\n",
       "      <th>21</th>\n",
       "      <td>A</td>\n",
       "      <td>48</td>\n",
       "      <td>0</td>\n",
       "      <td>5</td>\n",
       "    </tr>\n",
       "    <tr>\n",
       "      <th>22</th>\n",
       "      <td>A</td>\n",
       "      <td>72</td>\n",
       "      <td>0</td>\n",
       "      <td>10</td>\n",
       "    </tr>\n",
       "    <tr>\n",
       "      <th>23</th>\n",
       "      <td>A</td>\n",
       "      <td>48</td>\n",
       "      <td>0</td>\n",
       "      <td>5</td>\n",
       "    </tr>\n",
       "    <tr>\n",
       "      <th>24</th>\n",
       "      <td>A</td>\n",
       "      <td>48</td>\n",
       "      <td>0</td>\n",
       "      <td>7</td>\n",
       "    </tr>\n",
       "    <tr>\n",
       "      <th>25</th>\n",
       "      <td>A</td>\n",
       "      <td>48</td>\n",
       "      <td>0</td>\n",
       "      <td>8</td>\n",
       "    </tr>\n",
       "    <tr>\n",
       "      <th>26</th>\n",
       "      <td>A</td>\n",
       "      <td>72</td>\n",
       "      <td>0</td>\n",
       "      <td>5</td>\n",
       "    </tr>\n",
       "    <tr>\n",
       "      <th>27</th>\n",
       "      <td>A</td>\n",
       "      <td>48</td>\n",
       "      <td>0</td>\n",
       "      <td>5</td>\n",
       "    </tr>\n",
       "  </tbody>\n",
       "</table>\n",
       "</div>"
      ],
      "text/plain": [
       "   Intervention group  time to ambulate  complication  length of stay\n",
       "0                   B                48             1              12\n",
       "1                   B                48             0               5\n",
       "2                   B                48             0               5\n",
       "3                   B                72             0               8\n",
       "4                   B                72             0               8\n",
       "5                   B                48             0               5\n",
       "6                   B                48             0               5\n",
       "7                   B                48             0               5\n",
       "8                   B                48             0              10\n",
       "9                   B                48             0               5\n",
       "10                  B                48             0               5\n",
       "11                  B                72             0               9\n",
       "12                  B                72             0               7\n",
       "13                  B                48             0               5\n",
       "14                  A                48             0               5\n",
       "15                  A                48             0               7\n",
       "16                  A                96             1              21\n",
       "17                  A                72             0               8\n",
       "18                  A                72             0               8\n",
       "19                  A                48             0               5\n",
       "20                  A                48             0               5\n",
       "21                  A                48             0               5\n",
       "22                  A                72             0              10\n",
       "23                  A                48             0               5\n",
       "24                  A                48             0               7\n",
       "25                  A                48             0               8\n",
       "26                  A                72             0               5\n",
       "27                  A                48             0               5"
      ]
     },
     "execution_count": 100,
     "metadata": {},
     "output_type": "execute_result"
    }
   ],
   "source": [
    "xls_final = pd.ExcelFile('C:\\\\Users\\\\USER\\\\Downloads\\\\top_Record_form_final_edit.xlsx')\n",
    "print(xls_final.sheet_names)\n",
    "final = xls_final.parse('Sheet5')\n",
    "final\n"
   ]
  },
  {
   "cell_type": "code",
   "execution_count": 107,
   "metadata": {},
   "outputs": [
    {
     "name": "stdout",
     "output_type": "stream",
     "text": [
      "                    count       mean        std   min   25%   50%   75%   max\n",
      "Intervention group                                                           \n",
      "A                    14.0  58.285714  15.508948  48.0  48.0  48.0  72.0  96.0\n",
      "B                    14.0  54.857143  11.251374  48.0  48.0  48.0  66.0  72.0\n",
      "          W-val alternative     p-val  RBC      CLES\n",
      "Wilcoxon    1.5   two-sided  0.586214  0.5  0.545918\n"
     ]
    },
    {
     "name": "stderr",
     "output_type": "stream",
     "text": [
      "C:\\Users\\USER\\AppData\\Local\\Packages\\PythonSoftwareFoundation.Python.3.10_qbz5n2kfra8p0\\LocalCache\\local-packages\\Python310\\site-packages\\scipy\\stats\\_morestats.py:3337: UserWarning: Exact p-value calculation does not work if there are zeros. Switching to normal approximation.\n",
      "  warnings.warn(\"Exact p-value calculation does not work if there are \"\n",
      "C:\\Users\\USER\\AppData\\Local\\Packages\\PythonSoftwareFoundation.Python.3.10_qbz5n2kfra8p0\\LocalCache\\local-packages\\Python310\\site-packages\\scipy\\stats\\_morestats.py:3351: UserWarning: Sample size too small for normal approximation.\n",
      "  warnings.warn(\"Sample size too small for normal approximation.\")\n"
     ]
    }
   ],
   "source": [
    "# ambulate time\n",
    "\n",
    "ambulate_time = final.groupby('Intervention group')['time to ambulate'].describe()\n",
    "print(ambulate_time)\n",
    "ambulate_stat = pg.wilcoxon(x = final[final['Intervention group'] == 'A']['time to ambulate'], y = final[final['Intervention group'] == 'B']['time to ambulate'], alternative = 'two-sided')\n",
    "print(ambulate_stat)"
   ]
  },
  {
   "cell_type": "code",
   "execution_count": 115,
   "metadata": {},
   "outputs": [
    {
     "name": "stdout",
     "output_type": "stream",
     "text": [
      "complication         0  1\n",
      "Intervention group       \n",
      "A                   13  1\n",
      "B                   13  1\n",
      "complication               0         1\n",
      "Intervention group                    \n",
      "A                   0.928571  0.071429\n",
      "B                   0.928571  0.071429\n",
      "      test  lambda  chi2  dof  pval  cramer  power\n",
      "0  pearson     1.0   0.0  1.0   1.0     0.0   0.05\n"
     ]
    },
    {
     "name": "stderr",
     "output_type": "stream",
     "text": [
      "C:\\Users\\USER\\AppData\\Local\\Packages\\PythonSoftwareFoundation.Python.3.10_qbz5n2kfra8p0\\LocalCache\\local-packages\\Python310\\site-packages\\pingouin\\contingency.py:150: UserWarning: Low count on observed frequencies.\n",
      "  warnings.warn(\"Low count on {} frequencies.\".format(name))\n",
      "C:\\Users\\USER\\AppData\\Local\\Packages\\PythonSoftwareFoundation.Python.3.10_qbz5n2kfra8p0\\LocalCache\\local-packages\\Python310\\site-packages\\pingouin\\contingency.py:150: UserWarning: Low count on expected frequencies.\n",
      "  warnings.warn(\"Low count on {} frequencies.\".format(name))\n"
     ]
    }
   ],
   "source": [
    "# complication\n",
    "\n",
    "complication = final.groupby('Intervention group')['complication'].value_counts().unstack()\n",
    "print(complication)\n",
    "\n",
    "complication_ratio = final.groupby('Intervention group')['complication'].value_counts(normalize = True).unstack()\n",
    "print(complication_ratio)\n",
    "\n",
    "expected, observed, stats = pg.chi2_independence(data = final, x = 'Intervention group', y = 'complication')\n",
    "print(stats[0:1])"
   ]
  },
  {
   "cell_type": "code",
   "execution_count": 117,
   "metadata": {},
   "outputs": [
    {
     "name": "stdout",
     "output_type": "stream",
     "text": [
      "                    count      mean       std  min  25%  50%  75%   max\n",
      "Intervention group                                                     \n",
      "A                    14.0  7.428571  4.237457  5.0  5.0  6.0  8.0  21.0\n",
      "B                    14.0  6.714286  2.334641  5.0  5.0  5.0  8.0  12.0\n",
      "          W-val alternative     p-val       RBC      CLES\n",
      "Wilcoxon    9.0   two-sided  0.832107  0.142857  0.517857\n"
     ]
    },
    {
     "name": "stderr",
     "output_type": "stream",
     "text": [
      "C:\\Users\\USER\\AppData\\Local\\Packages\\PythonSoftwareFoundation.Python.3.10_qbz5n2kfra8p0\\LocalCache\\local-packages\\Python310\\site-packages\\scipy\\stats\\_morestats.py:3337: UserWarning: Exact p-value calculation does not work if there are zeros. Switching to normal approximation.\n",
      "  warnings.warn(\"Exact p-value calculation does not work if there are \"\n",
      "C:\\Users\\USER\\AppData\\Local\\Packages\\PythonSoftwareFoundation.Python.3.10_qbz5n2kfra8p0\\LocalCache\\local-packages\\Python310\\site-packages\\scipy\\stats\\_morestats.py:3351: UserWarning: Sample size too small for normal approximation.\n",
      "  warnings.warn(\"Sample size too small for normal approximation.\")\n"
     ]
    }
   ],
   "source": [
    "# lenght of stay \n",
    "\n",
    "lenght = final.groupby('Intervention group')['length of stay'].describe()\n",
    "print(lenght)\n",
    "\n",
    "lenght_stat = pg.wilcoxon(x = final[final['Intervention group'] == 'A']['length of stay'], y = final[final['Intervention group'] == 'B']['length of stay'], alternative = 'two-sided')\n",
    "print(lenght_stat)"
   ]
  }
 ],
 "metadata": {
  "kernelspec": {
   "display_name": "Python 3",
   "language": "python",
   "name": "python3"
  },
  "language_info": {
   "codemirror_mode": {
    "name": "ipython",
    "version": 3
   },
   "file_extension": ".py",
   "mimetype": "text/x-python",
   "name": "python",
   "nbconvert_exporter": "python",
   "pygments_lexer": "ipython3",
   "version": "3.10.11"
  }
 },
 "nbformat": 4,
 "nbformat_minor": 2
}
